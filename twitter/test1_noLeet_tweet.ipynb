{
 "cells": [
  {
   "cell_type": "code",
   "execution_count": 1,
   "metadata": {},
   "outputs": [
    {
     "name": "stderr",
     "output_type": "stream",
     "text": [
      "c:\\Users\\humay\\AppData\\Local\\Programs\\Python\\Python39\\lib\\site-packages\\tqdm\\auto.py:21: TqdmWarning: IProgress not found. Please update jupyter and ipywidgets. See https://ipywidgets.readthedocs.io/en/stable/user_install.html\n",
      "  from .autonotebook import tqdm as notebook_tqdm\n"
     ]
    }
   ],
   "source": [
    "import pandas as pd\n",
    "from sklearn.model_selection import train_test_split\n",
    "from transformers import AutoTokenizer\n",
    "from transformers import AutoModelForSequenceClassification\n",
    "from scipy.special import softmax\n",
    "from tqdm import tqdm, trange"
   ]
  },
  {
   "cell_type": "code",
   "execution_count": 3,
   "metadata": {},
   "outputs": [
    {
     "name": "stdout",
     "output_type": "stream",
     "text": [
      "<class 'pandas.core.frame.DataFrame'>\n",
      "RangeIndex: 170255 entries, 0 to 170254\n",
      "Data columns (total 5 columns):\n",
      " #   Column       Non-Null Count   Dtype \n",
      "---  ------       --------------   ----- \n",
      " 0   keyword      170255 non-null  object\n",
      " 1   main_tweet   170255 non-null  object\n",
      " 2   main_likes   170255 non-null  int64 \n",
      " 3   reply        170255 non-null  object\n",
      " 4   reply_likes  170255 non-null  int64 \n",
      "dtypes: int64(2), object(3)\n",
      "memory usage: 6.5+ MB\n"
     ]
    },
    {
     "data": {
      "text/html": [
       "<div>\n",
       "<style scoped>\n",
       "    .dataframe tbody tr th:only-of-type {\n",
       "        vertical-align: middle;\n",
       "    }\n",
       "\n",
       "    .dataframe tbody tr th {\n",
       "        vertical-align: top;\n",
       "    }\n",
       "\n",
       "    .dataframe thead th {\n",
       "        text-align: right;\n",
       "    }\n",
       "</style>\n",
       "<table border=\"1\" class=\"dataframe\">\n",
       "  <thead>\n",
       "    <tr style=\"text-align: right;\">\n",
       "      <th></th>\n",
       "      <th>keyword</th>\n",
       "      <th>main_tweet</th>\n",
       "      <th>main_likes</th>\n",
       "      <th>reply</th>\n",
       "      <th>reply_likes</th>\n",
       "    </tr>\n",
       "  </thead>\n",
       "  <tbody>\n",
       "    <tr>\n",
       "      <th>0</th>\n",
       "      <td>Bitcoin</td>\n",
       "      <td>Whales and elites stepped in on this day to sc...</td>\n",
       "      <td>29</td>\n",
       "      <td>Freedom✊🏼 #wearesatoshi</td>\n",
       "      <td>1</td>\n",
       "    </tr>\n",
       "    <tr>\n",
       "      <th>1</th>\n",
       "      <td>nba</td>\n",
       "      <td>Hang on, you are the queen of cancel culture t...</td>\n",
       "      <td>1</td>\n",
       "      <td>In the same hour…this wretched troll posted this…</td>\n",
       "      <td>1</td>\n",
       "    </tr>\n",
       "    <tr>\n",
       "      <th>2</th>\n",
       "      <td>Tesla</td>\n",
       "      <td>It just smells like dead people burning in his...</td>\n",
       "      <td>0</td>\n",
       "      <td>Why do I have a feeling this smells like fire&amp;...</td>\n",
       "      <td>0</td>\n",
       "    </tr>\n",
       "    <tr>\n",
       "      <th>3</th>\n",
       "      <td>Tesla</td>\n",
       "      <td>Sooooo many that I’m having a hard time findin...</td>\n",
       "      <td>0</td>\n",
       "      <td>chick fil a ,home depot anyone associated with...</td>\n",
       "      <td>0</td>\n",
       "    </tr>\n",
       "    <tr>\n",
       "      <th>4</th>\n",
       "      <td>Tesla</td>\n",
       "      <td>I will,  if you guarantee me a job at tesla 😉</td>\n",
       "      <td>0</td>\n",
       "      <td>What does it matter if you buy Twitter?</td>\n",
       "      <td>0</td>\n",
       "    </tr>\n",
       "  </tbody>\n",
       "</table>\n",
       "</div>"
      ],
      "text/plain": [
       "   keyword                                         main_tweet  main_likes  \\\n",
       "0  Bitcoin  Whales and elites stepped in on this day to sc...          29   \n",
       "1      nba  Hang on, you are the queen of cancel culture t...           1   \n",
       "2    Tesla  It just smells like dead people burning in his...           0   \n",
       "3    Tesla  Sooooo many that I’m having a hard time findin...           0   \n",
       "4    Tesla      I will,  if you guarantee me a job at tesla 😉           0   \n",
       "\n",
       "                                               reply  reply_likes  \n",
       "0                            Freedom✊🏼 #wearesatoshi            1  \n",
       "1  In the same hour…this wretched troll posted this…            1  \n",
       "2  Why do I have a feeling this smells like fire&...            0  \n",
       "3  chick fil a ,home depot anyone associated with...            0  \n",
       "4            What does it matter if you buy Twitter?            0  "
      ]
     },
     "execution_count": 3,
     "metadata": {},
     "output_type": "execute_result"
    }
   ],
   "source": [
    "orig_df = pd.read_json('tweet_reply.json', lines=True)\n",
    "orig_df = orig_df.sample(frac=1).reset_index(drop=True) # shuffle records\n",
    "orig_df.info()\n",
    "orig_df.head()\n"
   ]
  },
  {
   "cell_type": "code",
   "execution_count": 6,
   "metadata": {},
   "outputs": [
    {
     "name": "stdout",
     "output_type": "stream",
     "text": [
      "Test Dataset:\n",
      "<class 'pandas.core.frame.DataFrame'>\n",
      "RangeIndex: 51077 entries, 0 to 51076\n",
      "Data columns (total 5 columns):\n",
      " #   Column       Non-Null Count  Dtype \n",
      "---  ------       --------------  ----- \n",
      " 0   keyword      51077 non-null  object\n",
      " 1   main_tweet   51077 non-null  object\n",
      " 2   main_likes   51077 non-null  int64 \n",
      " 3   reply        51077 non-null  object\n",
      " 4   reply_likes  51077 non-null  int64 \n",
      "dtypes: int64(2), object(3)\n",
      "memory usage: 1.9+ MB\n",
      "\n",
      "Training Dataset:\n",
      "<class 'pandas.core.frame.DataFrame'>\n",
      "RangeIndex: 119178 entries, 0 to 119177\n",
      "Data columns (total 5 columns):\n",
      " #   Column       Non-Null Count   Dtype \n",
      "---  ------       --------------   ----- \n",
      " 0   keyword      119178 non-null  object\n",
      " 1   main_tweet   119178 non-null  object\n",
      " 2   main_likes   119178 non-null  int64 \n",
      " 3   reply        119178 non-null  object\n",
      " 4   reply_likes  119178 non-null  int64 \n",
      "dtypes: int64(2), object(3)\n",
      "memory usage: 4.5+ MB\n"
     ]
    }
   ],
   "source": [
    "# SPLIT DATASET[commenting this out as I have saved the split datasets as csv. Will use those from here on.]\n",
    "# train, test = train_test_split(orig_df, test_size=0.3)\n",
    "# test.reset_index(drop=True)\n",
    "# train.reset_index(drop=True)\n",
    "\n",
    "test = pd.read_csv(\"test.csv\")\n",
    "train = pd.read_csv(\"train.csv\")\n",
    "\n",
    "print(\"Test Dataset:\")\n",
    "test.info()\n",
    "print(\"\\nTraining Dataset:\")\n",
    "train.info()\n",
    "#test[\"reply\"].values.size\n",
    "\n",
    "#test[\"keyword\"].values[0] -> 'weather'"
   ]
  },
  {
   "cell_type": "code",
   "execution_count": 7,
   "metadata": {},
   "outputs": [
    {
     "name": "stderr",
     "output_type": "stream",
     "text": [
      "Some weights of the model checkpoint at cardiffnlp/twitter-roberta-base-sentiment-latest were not used when initializing RobertaForSequenceClassification: ['roberta.pooler.dense.weight', 'roberta.pooler.dense.bias']\n",
      "- This IS expected if you are initializing RobertaForSequenceClassification from the checkpoint of a model trained on another task or with another architecture (e.g. initializing a BertForSequenceClassification model from a BertForPreTraining model).\n",
      "- This IS NOT expected if you are initializing RobertaForSequenceClassification from the checkpoint of a model that you expect to be exactly identical (initializing a BertForSequenceClassification model from a BertForSequenceClassification model).\n"
     ]
    }
   ],
   "source": [
    "#setup pre-trained roberta model from https://huggingface.co/cardiffnlp/twitter-roberta-base-sentiment-latest \n",
    "MODEL = f\"cardiffnlp/twitter-roberta-base-sentiment-latest\"\n",
    "tokenizer = AutoTokenizer.from_pretrained(MODEL)\n",
    "model = AutoModelForSequenceClassification.from_pretrained(MODEL)"
   ]
  },
  {
   "cell_type": "code",
   "execution_count": 8,
   "metadata": {},
   "outputs": [
    {
     "name": "stdout",
     "output_type": "stream",
     "text": [
      "{'roberta_neg': 0.0077943704, 'roberta_neu': 0.030709133, 'roberta_pos': 0.96149653}\n"
     ]
    }
   ],
   "source": [
    "# Run for Roberta Model\n",
    "def polarity_scores_roberta(example):\n",
    "    encoded_text = tokenizer(example, return_tensors='pt')\n",
    "    output = model(**encoded_text)\n",
    "    scores = output[0][0].detach().numpy()\n",
    "    scores = softmax(scores)\n",
    "    scores_dict = {\n",
    "        'roberta_neg' : scores[0],\n",
    "        'roberta_neu' : scores[1],\n",
    "        'roberta_pos' : scores[2]\n",
    "    }\n",
    "    return scores_dict\n",
    "\n",
    "print(polarity_scores_roberta(\"I am happy\"))"
   ]
  },
  {
   "cell_type": "code",
   "execution_count": 6,
   "metadata": {},
   "outputs": [
    {
     "name": "stderr",
     "output_type": "stream",
     "text": [
      "100%|██████████| 51077/51077 [1:57:32<00:00,  7.24it/s]      \n"
     ]
    },
    {
     "data": {
      "text/html": [
       "<div>\n",
       "<style scoped>\n",
       "    .dataframe tbody tr th:only-of-type {\n",
       "        vertical-align: middle;\n",
       "    }\n",
       "\n",
       "    .dataframe tbody tr th {\n",
       "        vertical-align: top;\n",
       "    }\n",
       "\n",
       "    .dataframe thead th {\n",
       "        text-align: right;\n",
       "    }\n",
       "</style>\n",
       "<table border=\"1\" class=\"dataframe\">\n",
       "  <thead>\n",
       "    <tr style=\"text-align: right;\">\n",
       "      <th></th>\n",
       "      <th>keyword</th>\n",
       "      <th>reply</th>\n",
       "      <th>Neg</th>\n",
       "      <th>Neu</th>\n",
       "      <th>Pos</th>\n",
       "    </tr>\n",
       "  </thead>\n",
       "  <tbody>\n",
       "    <tr>\n",
       "      <th>0</th>\n",
       "      <td>Dogecoin</td>\n",
       "      <td>Hodling like there is no tomorrow!</td>\n",
       "      <td>0.061756</td>\n",
       "      <td>0.309112</td>\n",
       "      <td>0.629132</td>\n",
       "    </tr>\n",
       "    <tr>\n",
       "      <th>1</th>\n",
       "      <td>Vaccine</td>\n",
       "      <td>As they tell us to not worry. 👀</td>\n",
       "      <td>0.078209</td>\n",
       "      <td>0.717959</td>\n",
       "      <td>0.203832</td>\n",
       "    </tr>\n",
       "    <tr>\n",
       "      <th>2</th>\n",
       "      <td>World Cup</td>\n",
       "      <td>I love this</td>\n",
       "      <td>0.009743</td>\n",
       "      <td>0.039927</td>\n",
       "      <td>0.950330</td>\n",
       "    </tr>\n",
       "    <tr>\n",
       "      <th>3</th>\n",
       "      <td>COVID-19</td>\n",
       "      <td>I hope so, but i have no need of immediate inf...</td>\n",
       "      <td>0.015798</td>\n",
       "      <td>0.124445</td>\n",
       "      <td>0.859756</td>\n",
       "    </tr>\n",
       "    <tr>\n",
       "      <th>4</th>\n",
       "      <td>COVID-19</td>\n",
       "      <td>Nuremberg doctors' trial was an important mile...</td>\n",
       "      <td>0.005117</td>\n",
       "      <td>0.106390</td>\n",
       "      <td>0.888493</td>\n",
       "    </tr>\n",
       "  </tbody>\n",
       "</table>\n",
       "</div>"
      ],
      "text/plain": [
       "     keyword                                              reply       Neg  \\\n",
       "0   Dogecoin                 Hodling like there is no tomorrow!  0.061756   \n",
       "1    Vaccine                    As they tell us to not worry. 👀  0.078209   \n",
       "2  World Cup                                        I love this  0.009743   \n",
       "3   COVID-19  I hope so, but i have no need of immediate inf...  0.015798   \n",
       "4   COVID-19  Nuremberg doctors' trial was an important mile...  0.005117   \n",
       "\n",
       "        Neu       Pos  \n",
       "0  0.309112  0.629132  \n",
       "1  0.717959  0.203832  \n",
       "2  0.039927  0.950330  \n",
       "3  0.124445  0.859756  \n",
       "4  0.106390  0.888493  "
      ]
     },
     "execution_count": 6,
     "metadata": {},
     "output_type": "execute_result"
    }
   ],
   "source": [
    "# Run Roberta on test data to get analysis prior leet substitution\n",
    "test1_result = {'keyword':[], 'reply':[], 'Neg':[], 'Neu':[], 'Pos':[]}\n",
    "\n",
    "for i in trange(len(test['reply'].values)):\n",
    "    test1_result['keyword'].append(test['keyword'].values[i])\n",
    "    test1_result['reply'].append(test['reply'].values[i])\n",
    "\n",
    "    polarity_scores = polarity_scores_roberta(test['reply'].values[i])\n",
    "    test1_result['Neg'].append(polarity_scores['roberta_neg'])\n",
    "    test1_result['Neu'].append(polarity_scores['roberta_neu'])\n",
    "    test1_result['Pos'].append(polarity_scores['roberta_pos'])\n",
    "\n",
    "test1_result_df = pd.DataFrame(test1_result)\n",
    "test1_result_df.head()"
   ]
  },
  {
   "cell_type": "code",
   "execution_count": 10,
   "metadata": {},
   "outputs": [],
   "source": [
    "# test.to_csv('test.csv', index=False)\n",
    "# train.to_csv('train.csv', index=False)\n",
    "# test1_result_df.to_csv('test1_result.csv', index=False)\n"
   ]
  }
 ],
 "metadata": {
  "kernelspec": {
   "display_name": "Python 3",
   "language": "python",
   "name": "python3"
  },
  "language_info": {
   "codemirror_mode": {
    "name": "ipython",
    "version": 3
   },
   "file_extension": ".py",
   "mimetype": "text/x-python",
   "name": "python",
   "nbconvert_exporter": "python",
   "pygments_lexer": "ipython3",
   "version": "3.9.2"
  }
 },
 "nbformat": 4,
 "nbformat_minor": 4
}
