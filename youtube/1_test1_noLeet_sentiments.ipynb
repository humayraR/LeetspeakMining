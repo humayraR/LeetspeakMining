{
 "cells": [
  {
   "cell_type": "code",
   "execution_count": 1,
   "metadata": {},
   "outputs": [],
   "source": [
    "import pandas as pd\n",
    "from sklearn.model_selection import train_test_split\n",
    "from transformers import AutoTokenizer\n",
    "from transformers import AutoModelForSequenceClassification\n",
    "from scipy.special import softmax\n",
    "from tqdm import tqdm, trange"
   ]
  },
  {
   "cell_type": "code",
   "execution_count": 2,
   "metadata": {},
   "outputs": [],
   "source": [
    "# from datasets import load_dataset\n",
    "# dataset = load_dataset('breadlicker45/youtube-comments-180k', split='train')"
   ]
  },
  {
   "cell_type": "code",
   "execution_count": 3,
   "metadata": {},
   "outputs": [],
   "source": [
    "# dataset.to_csv('youtube-comments-180k.csv')"
   ]
  },
  {
   "cell_type": "code",
   "execution_count": 4,
   "metadata": {},
   "outputs": [
    {
     "name": "stdout",
     "output_type": "stream",
     "text": [
      "<class 'pandas.core.frame.DataFrame'>\n",
      "RangeIndex: 187482 entries, 0 to 187481\n",
      "Data columns (total 1 columns):\n",
      " #   Column  Non-Null Count   Dtype \n",
      "---  ------  --------------   ----- \n",
      " 0   text    187480 non-null  object\n",
      "dtypes: object(1)\n",
      "memory usage: 1.4+ MB\n",
      "<class 'pandas.core.frame.DataFrame'>\n",
      "Index: 164699 entries, 0 to 187481\n",
      "Data columns (total 1 columns):\n",
      " #   Column  Non-Null Count   Dtype \n",
      "---  ------  --------------   ----- \n",
      " 0   text    164699 non-null  object\n",
      "dtypes: object(1)\n",
      "memory usage: 2.5+ MB\n"
     ]
    }
   ],
   "source": [
    "yt_df = pd.read_csv(\"youtube-comments-180k.csv\")\n",
    "yt_df.info()\n",
    "yt_df = yt_df[yt_df['text'].str.len()<300] #character limit = 300\n",
    "yt_df.info()"
   ]
  },
  {
   "cell_type": "code",
   "execution_count": 5,
   "metadata": {},
   "outputs": [
    {
     "name": "stdout",
     "output_type": "stream",
     "text": [
      "<class 'pandas.core.frame.DataFrame'>\n",
      "RangeIndex: 57645 entries, 0 to 57644\n",
      "Data columns (total 1 columns):\n",
      " #   Column  Non-Null Count  Dtype \n",
      "---  ------  --------------  ----- \n",
      " 0   text    57645 non-null  object\n",
      "dtypes: object(1)\n",
      "memory usage: 450.5+ KB\n"
     ]
    }
   ],
   "source": [
    "# train, test = train_test_split(yt_df, test_size=0.35)\n",
    "# train.info()\n",
    "# test.info()\n",
    "# train.to_csv('train_yt.csv', index = False)\n",
    "# test.to_csv('test_yt.csv', index = False)\n",
    "test = pd.read_csv(\"test_yt.csv\")\n",
    "test.info()"
   ]
  },
  {
   "cell_type": "markdown",
   "metadata": {},
   "source": [
    "# Sentiment Analysis using RoBerta"
   ]
  },
  {
   "cell_type": "code",
   "execution_count": 6,
   "metadata": {},
   "outputs": [
    {
     "name": "stderr",
     "output_type": "stream",
     "text": [
      "Some weights of the model checkpoint at cardiffnlp/twitter-roberta-base-sentiment-latest were not used when initializing RobertaForSequenceClassification: ['roberta.pooler.dense.bias', 'roberta.pooler.dense.weight']\n",
      "- This IS expected if you are initializing RobertaForSequenceClassification from the checkpoint of a model trained on another task or with another architecture (e.g. initializing a BertForSequenceClassification model from a BertForPreTraining model).\n",
      "- This IS NOT expected if you are initializing RobertaForSequenceClassification from the checkpoint of a model that you expect to be exactly identical (initializing a BertForSequenceClassification model from a BertForSequenceClassification model).\n"
     ]
    },
    {
     "name": "stdout",
     "output_type": "stream",
     "text": [
      "{'roberta_neg': 0.0077943704, 'roberta_neu': 0.030709133, 'roberta_pos': 0.96149653}\n"
     ]
    }
   ],
   "source": [
    "#setup pre-trained roberta model from https://huggingface.co/cardiffnlp/twitter-roberta-base-sentiment-latest \n",
    "MODEL = f\"cardiffnlp/twitter-roberta-base-sentiment-latest\"\n",
    "tokenizer = AutoTokenizer.from_pretrained(MODEL)\n",
    "model = AutoModelForSequenceClassification.from_pretrained(MODEL)\n",
    "# Run for Roberta Model\n",
    "def polarity_scores_roberta(example):\n",
    "    encoded_text = tokenizer(example, return_tensors='pt')\n",
    "    output = model(**encoded_text)\n",
    "    scores = output[0][0].detach().numpy()\n",
    "    scores = softmax(scores)\n",
    "    scores_dict = {\n",
    "        'roberta_neg' : scores[0],\n",
    "        'roberta_neu' : scores[1],\n",
    "        'roberta_pos' : scores[2]\n",
    "    }\n",
    "    return scores_dict\n",
    "\n",
    "print(polarity_scores_roberta(\"I am happy\"))"
   ]
  },
  {
   "cell_type": "code",
   "execution_count": 7,
   "metadata": {},
   "outputs": [
    {
     "name": "stderr",
     "output_type": "stream",
     "text": [
      "100%|██████████| 57645/57645 [1:07:49<00:00, 14.17it/s]\n"
     ]
    },
    {
     "data": {
      "text/html": [
       "<div>\n",
       "<style scoped>\n",
       "    .dataframe tbody tr th:only-of-type {\n",
       "        vertical-align: middle;\n",
       "    }\n",
       "\n",
       "    .dataframe tbody tr th {\n",
       "        vertical-align: top;\n",
       "    }\n",
       "\n",
       "    .dataframe thead th {\n",
       "        text-align: right;\n",
       "    }\n",
       "</style>\n",
       "<table border=\"1\" class=\"dataframe\">\n",
       "  <thead>\n",
       "    <tr style=\"text-align: right;\">\n",
       "      <th></th>\n",
       "      <th>text</th>\n",
       "      <th>Neg</th>\n",
       "      <th>Neu</th>\n",
       "      <th>Pos</th>\n",
       "    </tr>\n",
       "  </thead>\n",
       "  <tbody>\n",
       "    <tr>\n",
       "      <th>0</th>\n",
       "      <td>Ok I hate to tell everyone but 90s quality is ...</td>\n",
       "      <td>0.171523</td>\n",
       "      <td>0.257676</td>\n",
       "      <td>0.570801</td>\n",
       "    </tr>\n",
       "    <tr>\n",
       "      <th>1</th>\n",
       "      <td>Actually the recent windows update made my pc ...</td>\n",
       "      <td>0.014980</td>\n",
       "      <td>0.076991</td>\n",
       "      <td>0.908029</td>\n",
       "    </tr>\n",
       "    <tr>\n",
       "      <th>2</th>\n",
       "      <td>Tom I really hope you enjoyed your stay in War...</td>\n",
       "      <td>0.002816</td>\n",
       "      <td>0.012929</td>\n",
       "      <td>0.984254</td>\n",
       "    </tr>\n",
       "    <tr>\n",
       "      <th>3</th>\n",
       "      <td>OR, more likely, they hired a professional who...</td>\n",
       "      <td>0.330295</td>\n",
       "      <td>0.606575</td>\n",
       "      <td>0.063130</td>\n",
       "    </tr>\n",
       "    <tr>\n",
       "      <th>4</th>\n",
       "      <td>I am confused because of Linus's tshirt.</td>\n",
       "      <td>0.527813</td>\n",
       "      <td>0.462156</td>\n",
       "      <td>0.010031</td>\n",
       "    </tr>\n",
       "  </tbody>\n",
       "</table>\n",
       "</div>"
      ],
      "text/plain": [
       "                                                text       Neg       Neu  \\\n",
       "0  Ok I hate to tell everyone but 90s quality is ...  0.171523  0.257676   \n",
       "1  Actually the recent windows update made my pc ...  0.014980  0.076991   \n",
       "2  Tom I really hope you enjoyed your stay in War...  0.002816  0.012929   \n",
       "3  OR, more likely, they hired a professional who...  0.330295  0.606575   \n",
       "4           I am confused because of Linus's tshirt.  0.527813  0.462156   \n",
       "\n",
       "        Pos  \n",
       "0  0.570801  \n",
       "1  0.908029  \n",
       "2  0.984254  \n",
       "3  0.063130  \n",
       "4  0.010031  "
      ]
     },
     "execution_count": 7,
     "metadata": {},
     "output_type": "execute_result"
    }
   ],
   "source": [
    "# Run Roberta on test data to get analysis prior leet substitution\n",
    "test1_result = {'text':[], 'Neg':[], 'Neu':[], 'Pos':[]}\n",
    "\n",
    "for i in trange(len(test['text'].values)):\n",
    "    test1_result['text'].append(test['text'].values[i])\n",
    "\n",
    "    polarity_scores = polarity_scores_roberta(test['text'].values[i])\n",
    "    test1_result['Neg'].append(polarity_scores['roberta_neg'])\n",
    "    test1_result['Neu'].append(polarity_scores['roberta_neu'])\n",
    "    test1_result['Pos'].append(polarity_scores['roberta_pos'])\n",
    "\n",
    "test1_result_df = pd.DataFrame(test1_result)\n",
    "test1_result_df.head()"
   ]
  },
  {
   "cell_type": "code",
   "execution_count": null,
   "metadata": {},
   "outputs": [],
   "source": [
    "test1_result_df.to_csv(\"test1_noLeet_setiment_result.csv\", index = False)"
   ]
  }
 ],
 "metadata": {
  "kernelspec": {
   "display_name": "Python 3",
   "language": "python",
   "name": "python3"
  },
  "language_info": {
   "codemirror_mode": {
    "name": "ipython",
    "version": 3
   },
   "file_extension": ".py",
   "mimetype": "text/x-python",
   "name": "python",
   "nbconvert_exporter": "python",
   "pygments_lexer": "ipython3",
   "version": "3.9.2"
  }
 },
 "nbformat": 4,
 "nbformat_minor": 4
}
