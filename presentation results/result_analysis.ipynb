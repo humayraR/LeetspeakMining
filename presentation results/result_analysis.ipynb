{
 "cells": [
  {
   "cell_type": "code",
   "execution_count": 1,
   "metadata": {},
   "outputs": [],
   "source": [
    "import pandas as pd\n",
    "import numpy as np\n",
    "from tqdm import tqdm, trange\n",
    "import matplotlib.pyplot as plt "
   ]
  },
  {
   "cell_type": "code",
   "execution_count": 2,
   "metadata": {},
   "outputs": [
    {
     "name": "stdout",
     "output_type": "stream",
     "text": [
      "Test 1 Result:\n"
     ]
    },
    {
     "data": {
      "text/html": [
       "<div>\n",
       "<style scoped>\n",
       "    .dataframe tbody tr th:only-of-type {\n",
       "        vertical-align: middle;\n",
       "    }\n",
       "\n",
       "    .dataframe tbody tr th {\n",
       "        vertical-align: top;\n",
       "    }\n",
       "\n",
       "    .dataframe thead th {\n",
       "        text-align: right;\n",
       "    }\n",
       "</style>\n",
       "<table border=\"1\" class=\"dataframe\">\n",
       "  <thead>\n",
       "    <tr style=\"text-align: right;\">\n",
       "      <th></th>\n",
       "      <th>keyword</th>\n",
       "      <th>reply</th>\n",
       "      <th>Neg</th>\n",
       "      <th>Neu</th>\n",
       "      <th>Pos</th>\n",
       "    </tr>\n",
       "  </thead>\n",
       "  <tbody>\n",
       "    <tr>\n",
       "      <th>0</th>\n",
       "      <td>Dogecoin</td>\n",
       "      <td>Hodling like there is no tomorrow!</td>\n",
       "      <td>0.061756</td>\n",
       "      <td>0.309112</td>\n",
       "      <td>0.629132</td>\n",
       "    </tr>\n",
       "    <tr>\n",
       "      <th>1</th>\n",
       "      <td>Vaccine</td>\n",
       "      <td>As they tell us to not worry. 👀</td>\n",
       "      <td>0.078209</td>\n",
       "      <td>0.717959</td>\n",
       "      <td>0.203832</td>\n",
       "    </tr>\n",
       "    <tr>\n",
       "      <th>2</th>\n",
       "      <td>World Cup</td>\n",
       "      <td>I love this</td>\n",
       "      <td>0.009743</td>\n",
       "      <td>0.039927</td>\n",
       "      <td>0.950330</td>\n",
       "    </tr>\n",
       "    <tr>\n",
       "      <th>3</th>\n",
       "      <td>COVID-19</td>\n",
       "      <td>I hope so, but i have no need of immediate inf...</td>\n",
       "      <td>0.015798</td>\n",
       "      <td>0.124445</td>\n",
       "      <td>0.859756</td>\n",
       "    </tr>\n",
       "    <tr>\n",
       "      <th>4</th>\n",
       "      <td>COVID-19</td>\n",
       "      <td>Nuremberg doctors' trial was an important mile...</td>\n",
       "      <td>0.005117</td>\n",
       "      <td>0.106390</td>\n",
       "      <td>0.888493</td>\n",
       "    </tr>\n",
       "  </tbody>\n",
       "</table>\n",
       "</div>"
      ],
      "text/plain": [
       "     keyword                                              reply       Neg  \\\n",
       "0   Dogecoin                 Hodling like there is no tomorrow!  0.061756   \n",
       "1    Vaccine                    As they tell us to not worry. 👀  0.078209   \n",
       "2  World Cup                                        I love this  0.009743   \n",
       "3   COVID-19  I hope so, but i have no need of immediate inf...  0.015798   \n",
       "4   COVID-19  Nuremberg doctors' trial was an important mile...  0.005117   \n",
       "\n",
       "        Neu       Pos  \n",
       "0  0.309112  0.629132  \n",
       "1  0.717959  0.203832  \n",
       "2  0.039927  0.950330  \n",
       "3  0.124445  0.859756  \n",
       "4  0.106390  0.888493  "
      ]
     },
     "execution_count": 2,
     "metadata": {},
     "output_type": "execute_result"
    }
   ],
   "source": [
    "test1_res = pd.read_csv(\"test1_result.csv\")\n",
    "print(\"Test 1 Result:\")\n",
    "test1_res.head()"
   ]
  },
  {
   "cell_type": "code",
   "execution_count": 58,
   "metadata": {},
   "outputs": [
    {
     "data": {
      "text/plain": [
       "array(['Dogecoin', 'Vaccine', 'World Cup', 'COVID-19', 'Elon Musk',\n",
       "       'weather', 'nba', 'Queen Elizabeth', 'Macdonald', 'Zoom',\n",
       "       'Ukraine', 'Bitcoin', 'Amazon', 'Tesla', 'NFT', 'TikTok',\n",
       "       'iPhone 12', 'Remote work'], dtype=object)"
      ]
     },
     "execution_count": 58,
     "metadata": {},
     "output_type": "execute_result"
    }
   ],
   "source": [
    "test1_res[\"keyword\"].unique()"
   ]
  },
  {
   "cell_type": "code",
   "execution_count": 63,
   "metadata": {},
   "outputs": [],
   "source": [
    "meanScores1 = {\n",
    "    \"keywords\" : test1_res[\"keyword\"].unique(),\n",
    "    \"AvgNeg\": [],\n",
    "    \"AvgNeu\": [],\n",
    "    \"AvgPos\": []\n",
    "}\n",
    "for item in meanScores1[\"keywords\"]:\n",
    "    meanScores1[\"AvgNeg\"].append(np.mean(test1_res[test1_res['keyword'] == item][\"Neg\"].values))\n",
    "    meanScores1[\"AvgNeu\"].append(np.mean(test1_res[test1_res['keyword'] == item][\"Neu\"].values))\n",
    "    meanScores1[\"AvgPos\"].append(np.mean(test1_res[test1_res['keyword'] == item][\"Pos\"].values))\n",
    "\n"
   ]
  },
  {
   "cell_type": "code",
   "execution_count": 64,
   "metadata": {},
   "outputs": [
    {
     "data": {
      "text/html": [
       "<div>\n",
       "<style scoped>\n",
       "    .dataframe tbody tr th:only-of-type {\n",
       "        vertical-align: middle;\n",
       "    }\n",
       "\n",
       "    .dataframe tbody tr th {\n",
       "        vertical-align: top;\n",
       "    }\n",
       "\n",
       "    .dataframe thead th {\n",
       "        text-align: right;\n",
       "    }\n",
       "</style>\n",
       "<table border=\"1\" class=\"dataframe\">\n",
       "  <thead>\n",
       "    <tr style=\"text-align: right;\">\n",
       "      <th></th>\n",
       "      <th>keywords</th>\n",
       "      <th>AvgNeg</th>\n",
       "      <th>AvgNeu</th>\n",
       "      <th>AvgPos</th>\n",
       "    </tr>\n",
       "  </thead>\n",
       "  <tbody>\n",
       "    <tr>\n",
       "      <th>0</th>\n",
       "      <td>Dogecoin</td>\n",
       "      <td>0.258531</td>\n",
       "      <td>0.374777</td>\n",
       "      <td>0.366692</td>\n",
       "    </tr>\n",
       "    <tr>\n",
       "      <th>1</th>\n",
       "      <td>Vaccine</td>\n",
       "      <td>0.489369</td>\n",
       "      <td>0.334895</td>\n",
       "      <td>0.175736</td>\n",
       "    </tr>\n",
       "    <tr>\n",
       "      <th>2</th>\n",
       "      <td>World Cup</td>\n",
       "      <td>0.294762</td>\n",
       "      <td>0.369759</td>\n",
       "      <td>0.335479</td>\n",
       "    </tr>\n",
       "    <tr>\n",
       "      <th>3</th>\n",
       "      <td>COVID-19</td>\n",
       "      <td>0.495489</td>\n",
       "      <td>0.325284</td>\n",
       "      <td>0.179228</td>\n",
       "    </tr>\n",
       "    <tr>\n",
       "      <th>4</th>\n",
       "      <td>Elon Musk</td>\n",
       "      <td>0.297897</td>\n",
       "      <td>0.406708</td>\n",
       "      <td>0.295394</td>\n",
       "    </tr>\n",
       "    <tr>\n",
       "      <th>5</th>\n",
       "      <td>weather</td>\n",
       "      <td>0.374918</td>\n",
       "      <td>0.354691</td>\n",
       "      <td>0.270392</td>\n",
       "    </tr>\n",
       "    <tr>\n",
       "      <th>6</th>\n",
       "      <td>nba</td>\n",
       "      <td>0.306201</td>\n",
       "      <td>0.386000</td>\n",
       "      <td>0.307799</td>\n",
       "    </tr>\n",
       "    <tr>\n",
       "      <th>7</th>\n",
       "      <td>Queen Elizabeth</td>\n",
       "      <td>0.386011</td>\n",
       "      <td>0.395308</td>\n",
       "      <td>0.218680</td>\n",
       "    </tr>\n",
       "    <tr>\n",
       "      <th>8</th>\n",
       "      <td>Macdonald</td>\n",
       "      <td>0.336303</td>\n",
       "      <td>0.384078</td>\n",
       "      <td>0.279619</td>\n",
       "    </tr>\n",
       "    <tr>\n",
       "      <th>9</th>\n",
       "      <td>Zoom</td>\n",
       "      <td>0.340786</td>\n",
       "      <td>0.353033</td>\n",
       "      <td>0.306181</td>\n",
       "    </tr>\n",
       "    <tr>\n",
       "      <th>10</th>\n",
       "      <td>Ukraine</td>\n",
       "      <td>0.579414</td>\n",
       "      <td>0.295710</td>\n",
       "      <td>0.124876</td>\n",
       "    </tr>\n",
       "    <tr>\n",
       "      <th>11</th>\n",
       "      <td>Bitcoin</td>\n",
       "      <td>0.263384</td>\n",
       "      <td>0.369734</td>\n",
       "      <td>0.366882</td>\n",
       "    </tr>\n",
       "    <tr>\n",
       "      <th>12</th>\n",
       "      <td>Amazon</td>\n",
       "      <td>0.303714</td>\n",
       "      <td>0.362928</td>\n",
       "      <td>0.333358</td>\n",
       "    </tr>\n",
       "    <tr>\n",
       "      <th>13</th>\n",
       "      <td>Tesla</td>\n",
       "      <td>0.222733</td>\n",
       "      <td>0.437249</td>\n",
       "      <td>0.340018</td>\n",
       "    </tr>\n",
       "    <tr>\n",
       "      <th>14</th>\n",
       "      <td>NFT</td>\n",
       "      <td>0.102385</td>\n",
       "      <td>0.254190</td>\n",
       "      <td>0.643424</td>\n",
       "    </tr>\n",
       "    <tr>\n",
       "      <th>15</th>\n",
       "      <td>TikTok</td>\n",
       "      <td>0.327718</td>\n",
       "      <td>0.310295</td>\n",
       "      <td>0.361987</td>\n",
       "    </tr>\n",
       "    <tr>\n",
       "      <th>16</th>\n",
       "      <td>iPhone 12</td>\n",
       "      <td>0.127374</td>\n",
       "      <td>0.363891</td>\n",
       "      <td>0.508735</td>\n",
       "    </tr>\n",
       "    <tr>\n",
       "      <th>17</th>\n",
       "      <td>Remote work</td>\n",
       "      <td>0.188121</td>\n",
       "      <td>0.354115</td>\n",
       "      <td>0.457764</td>\n",
       "    </tr>\n",
       "  </tbody>\n",
       "</table>\n",
       "</div>"
      ],
      "text/plain": [
       "           keywords    AvgNeg    AvgNeu    AvgPos\n",
       "0          Dogecoin  0.258531  0.374777  0.366692\n",
       "1           Vaccine  0.489369  0.334895  0.175736\n",
       "2         World Cup  0.294762  0.369759  0.335479\n",
       "3          COVID-19  0.495489  0.325284  0.179228\n",
       "4         Elon Musk  0.297897  0.406708  0.295394\n",
       "5           weather  0.374918  0.354691  0.270392\n",
       "6               nba  0.306201  0.386000  0.307799\n",
       "7   Queen Elizabeth  0.386011  0.395308  0.218680\n",
       "8         Macdonald  0.336303  0.384078  0.279619\n",
       "9              Zoom  0.340786  0.353033  0.306181\n",
       "10          Ukraine  0.579414  0.295710  0.124876\n",
       "11          Bitcoin  0.263384  0.369734  0.366882\n",
       "12           Amazon  0.303714  0.362928  0.333358\n",
       "13            Tesla  0.222733  0.437249  0.340018\n",
       "14              NFT  0.102385  0.254190  0.643424\n",
       "15           TikTok  0.327718  0.310295  0.361987\n",
       "16        iPhone 12  0.127374  0.363891  0.508735\n",
       "17      Remote work  0.188121  0.354115  0.457764"
      ]
     },
     "execution_count": 64,
     "metadata": {},
     "output_type": "execute_result"
    }
   ],
   "source": [
    "test1_avg_df = pd.DataFrame(meanScores1)\n",
    "test1_avg_df"
   ]
  },
  {
   "cell_type": "code",
   "execution_count": 74,
   "metadata": {},
   "outputs": [
    {
     "data": {
      "text/plain": [
       "<Figure size 1080x288 with 0 Axes>"
      ]
     },
     "metadata": {},
     "output_type": "display_data"
    },
    {
     "data": {
      "text/plain": [
       "<Figure size 432x3600 with 0 Axes>"
      ]
     },
     "metadata": {},
     "output_type": "display_data"
    },
    {
     "data": {
      "image/png": "[encoded data removed]",
      "text/plain": [
       "<Figure size 432x288 with 1 Axes>"
      ]
     },
     "metadata": {
      "needs_background": "light"
     },
     "output_type": "display_data"
    }
   ],
   "source": [
    "test1_avg_df.index = test1_avg_df[\"keywords\"]\n",
    "plt.figure().set_figwidth(15)\n",
    "plt.figure().set_figheight(50)\n",
    "test1_avg_df.plot.barh(title=\"Twitter Sentiment Analysis by keywords\")\n",
    "\n",
    "plt.show()"
   ]
  },
  {
   "cell_type": "code",
   "execution_count": 66,
   "metadata": {},
   "outputs": [
    {
     "name": "stdout",
     "output_type": "stream",
     "text": [
      "Test 2 Result:\n"
     ]
    },
    {
     "data": {
      "text/html": [
       "<div>\n",
       "<style scoped>\n",
       "    .dataframe tbody tr th:only-of-type {\n",
       "        vertical-align: middle;\n",
       "    }\n",
       "\n",
       "    .dataframe tbody tr th {\n",
       "        vertical-align: top;\n",
       "    }\n",
       "\n",
       "    .dataframe thead th {\n",
       "        text-align: right;\n",
       "    }\n",
       "</style>\n",
       "<table border=\"1\" class=\"dataframe\">\n",
       "  <thead>\n",
       "    <tr style=\"text-align: right;\">\n",
       "      <th></th>\n",
       "      <th>keyword</th>\n",
       "      <th>reply</th>\n",
       "      <th>leetWords</th>\n",
       "      <th>BestMatches</th>\n",
       "      <th>NewReply</th>\n",
       "      <th>Neg</th>\n",
       "      <th>Neu</th>\n",
       "      <th>Pos</th>\n",
       "    </tr>\n",
       "  </thead>\n",
       "  <tbody>\n",
       "    <tr>\n",
       "      <th>0</th>\n",
       "      <td>Dogecoin</td>\n",
       "      <td>Hodling like there is no tomorrow!</td>\n",
       "      <td>[]</td>\n",
       "      <td>[]</td>\n",
       "      <td>Hodling like there is no tomorrow!</td>\n",
       "      <td>0.061756</td>\n",
       "      <td>0.309112</td>\n",
       "      <td>0.629132</td>\n",
       "    </tr>\n",
       "    <tr>\n",
       "      <th>1</th>\n",
       "      <td>Vaccine</td>\n",
       "      <td>As they tell us to not worry. 👀</td>\n",
       "      <td>[]</td>\n",
       "      <td>[]</td>\n",
       "      <td>As they tell us to not worry. 👀</td>\n",
       "      <td>0.078209</td>\n",
       "      <td>0.717959</td>\n",
       "      <td>0.203832</td>\n",
       "    </tr>\n",
       "    <tr>\n",
       "      <th>2</th>\n",
       "      <td>World Cup</td>\n",
       "      <td>I love this</td>\n",
       "      <td>[]</td>\n",
       "      <td>[]</td>\n",
       "      <td>I love this</td>\n",
       "      <td>0.009743</td>\n",
       "      <td>0.039927</td>\n",
       "      <td>0.950330</td>\n",
       "    </tr>\n",
       "    <tr>\n",
       "      <th>3</th>\n",
       "      <td>COVID-19</td>\n",
       "      <td>I hope so, but i have no need of immediate inf...</td>\n",
       "      <td>['exploration.May']</td>\n",
       "      <td>[None]</td>\n",
       "      <td>I hope so, but i have no need of immediate inf...</td>\n",
       "      <td>0.015798</td>\n",
       "      <td>0.124445</td>\n",
       "      <td>0.859756</td>\n",
       "    </tr>\n",
       "    <tr>\n",
       "      <th>4</th>\n",
       "      <td>COVID-19</td>\n",
       "      <td>Nuremberg doctors' trial was an important mile...</td>\n",
       "      <td>[\"doctors'\"]</td>\n",
       "      <td>['doctors']</td>\n",
       "      <td>Nuremberg doctors trial was an important miles...</td>\n",
       "      <td>0.005688</td>\n",
       "      <td>0.115113</td>\n",
       "      <td>0.879200</td>\n",
       "    </tr>\n",
       "  </tbody>\n",
       "</table>\n",
       "</div>"
      ],
      "text/plain": [
       "     keyword                                              reply  \\\n",
       "0   Dogecoin                 Hodling like there is no tomorrow!   \n",
       "1    Vaccine                    As they tell us to not worry. 👀   \n",
       "2  World Cup                                        I love this   \n",
       "3   COVID-19  I hope so, but i have no need of immediate inf...   \n",
       "4   COVID-19  Nuremberg doctors' trial was an important mile...   \n",
       "\n",
       "             leetWords  BestMatches  \\\n",
       "0                   []           []   \n",
       "1                   []           []   \n",
       "2                   []           []   \n",
       "3  ['exploration.May']       [None]   \n",
       "4         [\"doctors'\"]  ['doctors']   \n",
       "\n",
       "                                            NewReply       Neg       Neu  \\\n",
       "0                 Hodling like there is no tomorrow!  0.061756  0.309112   \n",
       "1                    As they tell us to not worry. 👀  0.078209  0.717959   \n",
       "2                                        I love this  0.009743  0.039927   \n",
       "3  I hope so, but i have no need of immediate inf...  0.015798  0.124445   \n",
       "4  Nuremberg doctors trial was an important miles...  0.005688  0.115113   \n",
       "\n",
       "        Pos  \n",
       "0  0.629132  \n",
       "1  0.203832  \n",
       "2  0.950330  \n",
       "3  0.859756  \n",
       "4  0.879200  "
      ]
     },
     "execution_count": 66,
     "metadata": {},
     "output_type": "execute_result"
    }
   ],
   "source": [
    "test2_res = pd.read_csv(\"test2_result.csv\")\n",
    "print(\"Test 2 Result:\")\n",
    "test2_res.head()"
   ]
  },
  {
   "cell_type": "code",
   "execution_count": 67,
   "metadata": {},
   "outputs": [
    {
     "data": {
      "text/plain": [
       "array(['Dogecoin', 'Vaccine', 'World Cup', 'COVID-19', 'Elon Musk',\n",
       "       'weather', 'nba', 'Queen Elizabeth', 'Macdonald', 'Zoom',\n",
       "       'Ukraine', 'Bitcoin', 'Amazon', 'Tesla', 'NFT', 'TikTok',\n",
       "       'iPhone 12', 'Remote work'], dtype=object)"
      ]
     },
     "execution_count": 67,
     "metadata": {},
     "output_type": "execute_result"
    }
   ],
   "source": [
    "test2_res[\"keyword\"].unique()"
   ]
  },
  {
   "cell_type": "code",
   "execution_count": 68,
   "metadata": {},
   "outputs": [],
   "source": [
    "meanScores2 = {\n",
    "    \"keywords\" : test2_res[\"keyword\"].unique(),\n",
    "    \"AvgNeg\": [],\n",
    "    \"AvgNeu\": [],\n",
    "    \"AvgPos\": []\n",
    "}\n",
    "for item in meanScores2[\"keywords\"]:\n",
    "    meanScores2[\"AvgNeg\"].append(np.mean(test2_res[test2_res['keyword'] == item][\"Neg\"].values))\n",
    "    meanScores2[\"AvgNeu\"].append(np.mean(test2_res[test2_res['keyword'] == item][\"Neu\"].values))\n",
    "    meanScores2[\"AvgPos\"].append(np.mean(test2_res[test2_res['keyword'] == item][\"Pos\"].values))"
   ]
  },
  {
   "cell_type": "code",
   "execution_count": 70,
   "metadata": {},
   "outputs": [
    {
     "data": {
      "text/html": [
       "<div>\n",
       "<style scoped>\n",
       "    .dataframe tbody tr th:only-of-type {\n",
       "        vertical-align: middle;\n",
       "    }\n",
       "\n",
       "    .dataframe tbody tr th {\n",
       "        vertical-align: top;\n",
       "    }\n",
       "\n",
       "    .dataframe thead th {\n",
       "        text-align: right;\n",
       "    }\n",
       "</style>\n",
       "<table border=\"1\" class=\"dataframe\">\n",
       "  <thead>\n",
       "    <tr style=\"text-align: right;\">\n",
       "      <th></th>\n",
       "      <th>keywords</th>\n",
       "      <th>AvgNeg</th>\n",
       "      <th>AvgNeu</th>\n",
       "      <th>AvgPos</th>\n",
       "    </tr>\n",
       "  </thead>\n",
       "  <tbody>\n",
       "    <tr>\n",
       "      <th>0</th>\n",
       "      <td>Dogecoin</td>\n",
       "      <td>0.260622</td>\n",
       "      <td>0.379672</td>\n",
       "      <td>0.359706</td>\n",
       "    </tr>\n",
       "    <tr>\n",
       "      <th>1</th>\n",
       "      <td>Vaccine</td>\n",
       "      <td>0.489934</td>\n",
       "      <td>0.336829</td>\n",
       "      <td>0.173238</td>\n",
       "    </tr>\n",
       "    <tr>\n",
       "      <th>2</th>\n",
       "      <td>World Cup</td>\n",
       "      <td>0.295051</td>\n",
       "      <td>0.371569</td>\n",
       "      <td>0.333380</td>\n",
       "    </tr>\n",
       "    <tr>\n",
       "      <th>3</th>\n",
       "      <td>COVID-19</td>\n",
       "      <td>0.496366</td>\n",
       "      <td>0.325272</td>\n",
       "      <td>0.178362</td>\n",
       "    </tr>\n",
       "    <tr>\n",
       "      <th>4</th>\n",
       "      <td>Elon Musk</td>\n",
       "      <td>0.303675</td>\n",
       "      <td>0.417877</td>\n",
       "      <td>0.278448</td>\n",
       "    </tr>\n",
       "    <tr>\n",
       "      <th>5</th>\n",
       "      <td>weather</td>\n",
       "      <td>0.375279</td>\n",
       "      <td>0.355963</td>\n",
       "      <td>0.268758</td>\n",
       "    </tr>\n",
       "    <tr>\n",
       "      <th>6</th>\n",
       "      <td>nba</td>\n",
       "      <td>0.306309</td>\n",
       "      <td>0.387034</td>\n",
       "      <td>0.306657</td>\n",
       "    </tr>\n",
       "    <tr>\n",
       "      <th>7</th>\n",
       "      <td>Queen Elizabeth</td>\n",
       "      <td>0.393487</td>\n",
       "      <td>0.390514</td>\n",
       "      <td>0.215999</td>\n",
       "    </tr>\n",
       "    <tr>\n",
       "      <th>8</th>\n",
       "      <td>Macdonald</td>\n",
       "      <td>0.337085</td>\n",
       "      <td>0.385023</td>\n",
       "      <td>0.277892</td>\n",
       "    </tr>\n",
       "    <tr>\n",
       "      <th>9</th>\n",
       "      <td>Zoom</td>\n",
       "      <td>0.342807</td>\n",
       "      <td>0.354401</td>\n",
       "      <td>0.302792</td>\n",
       "    </tr>\n",
       "    <tr>\n",
       "      <th>10</th>\n",
       "      <td>Ukraine</td>\n",
       "      <td>0.578135</td>\n",
       "      <td>0.296917</td>\n",
       "      <td>0.124948</td>\n",
       "    </tr>\n",
       "    <tr>\n",
       "      <th>11</th>\n",
       "      <td>Bitcoin</td>\n",
       "      <td>0.266070</td>\n",
       "      <td>0.372041</td>\n",
       "      <td>0.361889</td>\n",
       "    </tr>\n",
       "    <tr>\n",
       "      <th>12</th>\n",
       "      <td>Amazon</td>\n",
       "      <td>0.306089</td>\n",
       "      <td>0.363929</td>\n",
       "      <td>0.329981</td>\n",
       "    </tr>\n",
       "    <tr>\n",
       "      <th>13</th>\n",
       "      <td>Tesla</td>\n",
       "      <td>0.226532</td>\n",
       "      <td>0.441749</td>\n",
       "      <td>0.331720</td>\n",
       "    </tr>\n",
       "    <tr>\n",
       "      <th>14</th>\n",
       "      <td>NFT</td>\n",
       "      <td>0.103710</td>\n",
       "      <td>0.258470</td>\n",
       "      <td>0.637820</td>\n",
       "    </tr>\n",
       "    <tr>\n",
       "      <th>15</th>\n",
       "      <td>TikTok</td>\n",
       "      <td>0.327826</td>\n",
       "      <td>0.309582</td>\n",
       "      <td>0.362592</td>\n",
       "    </tr>\n",
       "    <tr>\n",
       "      <th>16</th>\n",
       "      <td>iPhone 12</td>\n",
       "      <td>0.129832</td>\n",
       "      <td>0.370485</td>\n",
       "      <td>0.499682</td>\n",
       "    </tr>\n",
       "    <tr>\n",
       "      <th>17</th>\n",
       "      <td>Remote work</td>\n",
       "      <td>0.192024</td>\n",
       "      <td>0.375355</td>\n",
       "      <td>0.432621</td>\n",
       "    </tr>\n",
       "  </tbody>\n",
       "</table>\n",
       "</div>"
      ],
      "text/plain": [
       "           keywords    AvgNeg    AvgNeu    AvgPos\n",
       "0          Dogecoin  0.260622  0.379672  0.359706\n",
       "1           Vaccine  0.489934  0.336829  0.173238\n",
       "2         World Cup  0.295051  0.371569  0.333380\n",
       "3          COVID-19  0.496366  0.325272  0.178362\n",
       "4         Elon Musk  0.303675  0.417877  0.278448\n",
       "5           weather  0.375279  0.355963  0.268758\n",
       "6               nba  0.306309  0.387034  0.306657\n",
       "7   Queen Elizabeth  0.393487  0.390514  0.215999\n",
       "8         Macdonald  0.337085  0.385023  0.277892\n",
       "9              Zoom  0.342807  0.354401  0.302792\n",
       "10          Ukraine  0.578135  0.296917  0.124948\n",
       "11          Bitcoin  0.266070  0.372041  0.361889\n",
       "12           Amazon  0.306089  0.363929  0.329981\n",
       "13            Tesla  0.226532  0.441749  0.331720\n",
       "14              NFT  0.103710  0.258470  0.637820\n",
       "15           TikTok  0.327826  0.309582  0.362592\n",
       "16        iPhone 12  0.129832  0.370485  0.499682\n",
       "17      Remote work  0.192024  0.375355  0.432621"
      ]
     },
     "execution_count": 70,
     "metadata": {},
     "output_type": "execute_result"
    }
   ],
   "source": [
    "test2_avg_df = pd.DataFrame(meanScores2)\n",
    "test2_avg_df"
   ]
  },
  {
   "cell_type": "code",
   "execution_count": 75,
   "metadata": {},
   "outputs": [
    {
     "data": {
      "text/plain": [
       "<Figure size 1080x288 with 0 Axes>"
      ]
     },
     "metadata": {},
     "output_type": "display_data"
    },
    {
     "data": {
      "text/plain": [
       "<Figure size 432x3600 with 0 Axes>"
      ]
     },
     "metadata": {},
     "output_type": "display_data"
    },
    {
     "data": {
      "image/png": "[encoded data removed]",
      "text/plain": [
       "<Figure size 432x288 with 1 Axes>"
      ]
     },
     "metadata": {
      "needs_background": "light"
     },
     "output_type": "display_data"
    }
   ],
   "source": [
    "test2_avg_df.index = test2_avg_df[\"keywords\"]\n",
    "plt.figure().set_figwidth(15)\n",
    "plt.figure().set_figheight(50)\n",
    "test2_avg_df.plot.barh(title=\"Twitter Sentiment Analysis by keywords\")\n",
    "\n",
    "plt.show()"
   ]
  },
  {
   "cell_type": "code",
   "execution_count": 80,
   "metadata": {},
   "outputs": [
    {
     "data": {
      "text/plain": [
       "<Figure size 1080x288 with 0 Axes>"
      ]
     },
     "metadata": {},
     "output_type": "display_data"
    },
    {
     "data": {
      "text/plain": [
       "<Figure size 432x3600 with 0 Axes>"
      ]
     },
     "metadata": {},
     "output_type": "display_data"
    },
    {
     "data": {
      "image/png": "[encoded data removed]",
      "text/plain": [
       "<Figure size 432x288 with 1 Axes>"
      ]
     },
     "metadata": {
      "needs_background": "light"
     },
     "output_type": "display_data"
    }
   ],
   "source": [
    "# compare Negative Values only\n",
    "meanPos = {\n",
    "    \"keywords\" : meanScores1[\"keywords\"],\n",
    "    \"AvgPos1\": meanScores1[\"AvgPos\"],\n",
    "    \"AvgPos2\": meanScores2[\"AvgPos\"],\n",
    "}\n",
    "meanPos = pd.DataFrame(meanPos)\n",
    "meanPos.index = meanPos[\"keywords\"]\n",
    "plt.figure().set_figwidth(15)\n",
    "plt.figure().set_figheight(50)\n",
    "meanPos.plot.barh(title=\"Positive Sentiment Analysis by keywords\")\n",
    "\n",
    "plt.show()"
   ]
  },
  {
   "cell_type": "code",
   "execution_count": 81,
   "metadata": {},
   "outputs": [
    {
     "data": {
      "text/plain": [
       "<Figure size 1080x288 with 0 Axes>"
      ]
     },
     "metadata": {},
     "output_type": "display_data"
    },
    {
     "data": {
      "text/plain": [
       "<Figure size 432x3600 with 0 Axes>"
      ]
     },
     "metadata": {},
     "output_type": "display_data"
    },
    {
     "data": {
      "image/png": "[encoded data removed]",
      "text/plain": [
       "<Figure size 432x288 with 1 Axes>"
      ]
     },
     "metadata": {
      "needs_background": "light"
     },
     "output_type": "display_data"
    }
   ],
   "source": [
    "# compare Negative Values only\n",
    "meanNeu = {\n",
    "    \"keywords\" : meanScores1[\"keywords\"],\n",
    "    \"AvgNeu1\": meanScores1[\"AvgNeu\"],\n",
    "    \"AvgNeu2\": meanScores2[\"AvgNeu\"],\n",
    "}\n",
    "meanNeu = pd.DataFrame(meanNeu)\n",
    "meanNeu.index = meanNeu[\"keywords\"]\n",
    "plt.figure().set_figwidth(15)\n",
    "plt.figure().set_figheight(50)\n",
    "meanNeu.plot.barh(title=\"Neutral Sentiment Analysis by keywords\")\n",
    "\n",
    "plt.show()"
   ]
  },
  {
   "cell_type": "code",
   "execution_count": 85,
   "metadata": {},
   "outputs": [
    {
     "data": {
      "text/plain": [
       "<Figure size 1080x288 with 0 Axes>"
      ]
     },
     "metadata": {},
     "output_type": "display_data"
    },
    {
     "data": {
      "text/plain": [
       "<Figure size 432x3600 with 0 Axes>"
      ]
     },
     "metadata": {},
     "output_type": "display_data"
    },
    {
     "data": {
      "image/png": "[encoded data removed]",
      "text/plain": [
       "<Figure size 432x288 with 1 Axes>"
      ]
     },
     "metadata": {
      "needs_background": "light"
     },
     "output_type": "display_data"
    }
   ],
   "source": [
    "# compare Negative Values only\n",
    "meanNeg = {\n",
    "    \"keywords\" : meanScores1[\"keywords\"],\n",
    "    \"AvgNeg1\": meanScores1[\"AvgNeg\"],\n",
    "    \"AvgNeg2\": meanScores2[\"AvgNeg\"],\n",
    "}\n",
    "meanNeg = pd.DataFrame(meanNeg)\n",
    "meanNeg.index = meanNeg[\"keywords\"]\n",
    "plt.figure().set_figwidth(15)\n",
    "plt.figure().set_figheight(50)\n",
    "meanNeg.plot.barh(title=\"Negative Sentiment Analysis by keywords\")\n",
    "\n",
    "plt.show()"
   ]
  }
 ],
 "metadata": {
  "kernelspec": {
   "display_name": "Python 3",
   "language": "python",
   "name": "python3"
  },
  "language_info": {
   "codemirror_mode": {
    "name": "ipython",
    "version": 3
   },
   "file_extension": ".py",
   "mimetype": "text/x-python",
   "name": "python",
   "nbconvert_exporter": "python",
   "pygments_lexer": "ipython3",
   "version": "3.9.2"
  }
 },
 "nbformat": 4,
 "nbformat_minor": 2
}
