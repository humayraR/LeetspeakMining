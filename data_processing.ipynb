{
 "cells": [
  {
   "cell_type": "code",
   "execution_count": 1,
   "metadata": {},
   "outputs": [
    {
     "name": "stdout",
     "output_type": "stream",
     "text": [
      "done\n"
     ]
    }
   ],
   "source": [
    "from nltk.sentiment import SentimentIntensityAnalyzer\n",
    "import pandas\n",
    "sia = SentimentIntensityAnalyzer()\n",
    "print(\"done\")"
   ]
  },
  {
   "cell_type": "code",
   "execution_count": 9,
   "metadata": {},
   "outputs": [],
   "source": [
    "orig_df = pandas.read_json('tweet_reply.json', lines=True)\n",
    "# orig_df.info()"
   ]
  },
  {
   "cell_type": "code",
   "execution_count": 11,
   "metadata": {},
   "outputs": [
    {
     "name": "stdout",
     "output_type": "stream",
     "text": [
      "<class 'pandas.core.frame.DataFrame'>\n",
      "RangeIndex: 170255 entries, 0 to 170254\n",
      "Data columns (total 5 columns):\n",
      " #   Column       Non-Null Count   Dtype \n",
      "---  ------       --------------   ----- \n",
      " 0   keyword      170255 non-null  object\n",
      " 1   main_tweet   170255 non-null  object\n",
      " 2   main_likes   170255 non-null  int64 \n",
      " 3   reply        170255 non-null  object\n",
      " 4   reply_likes  170255 non-null  int64 \n",
      "dtypes: int64(2), object(3)\n",
      "memory usage: 6.5+ MB\n"
     ]
    }
   ],
   "source": [
    "orig_df.info()"
   ]
  },
  {
   "cell_type": "code",
   "execution_count": 12,
   "metadata": {},
   "outputs": [
    {
     "data": {
      "text/html": [
       "<div>\n",
       "<style scoped>\n",
       "    .dataframe tbody tr th:only-of-type {\n",
       "        vertical-align: middle;\n",
       "    }\n",
       "\n",
       "    .dataframe tbody tr th {\n",
       "        vertical-align: top;\n",
       "    }\n",
       "\n",
       "    .dataframe thead th {\n",
       "        text-align: right;\n",
       "    }\n",
       "</style>\n",
       "<table border=\"1\" class=\"dataframe\">\n",
       "  <thead>\n",
       "    <tr style=\"text-align: right;\">\n",
       "      <th></th>\n",
       "      <th>keyword</th>\n",
       "      <th>main_tweet</th>\n",
       "      <th>main_likes</th>\n",
       "      <th>reply</th>\n",
       "      <th>reply_likes</th>\n",
       "    </tr>\n",
       "  </thead>\n",
       "  <tbody>\n",
       "    <tr>\n",
       "      <th>0</th>\n",
       "      <td>COVID-19</td>\n",
       "      <td>this entire bioweapon coup d'etat ~ their Covi...</td>\n",
       "      <td>3</td>\n",
       "      <td>I’ve had enough tbh!</td>\n",
       "      <td>45</td>\n",
       "    </tr>\n",
       "    <tr>\n",
       "      <th>1</th>\n",
       "      <td>COVID-19</td>\n",
       "      <td>Some ppl pretend to remain ignorant. There was...</td>\n",
       "      <td>0</td>\n",
       "      <td>Resp PM Ji,Pl rate yourself on target defined</td>\n",
       "      <td>0</td>\n",
       "    </tr>\n",
       "    <tr>\n",
       "      <th>2</th>\n",
       "      <td>COVID-19</td>\n",
       "      <td>Some ppl pretend to remain ignorant. There was...</td>\n",
       "      <td>0</td>\n",
       "      <td>#ModiDisasterForIndia Irony is that he still i...</td>\n",
       "      <td>1</td>\n",
       "    </tr>\n",
       "    <tr>\n",
       "      <th>3</th>\n",
       "      <td>COVID-19</td>\n",
       "      <td>Some ppl pretend to remain ignorant. There was...</td>\n",
       "      <td>0</td>\n",
       "      <td>With terms &amp;amp; conditions no natural calamit...</td>\n",
       "      <td>0</td>\n",
       "    </tr>\n",
       "    <tr>\n",
       "      <th>4</th>\n",
       "      <td>COVID-19</td>\n",
       "      <td>Some ppl pretend to remain ignorant. There was...</td>\n",
       "      <td>0</td>\n",
       "      <td>All of them have been fulfilled</td>\n",
       "      <td>0</td>\n",
       "    </tr>\n",
       "  </tbody>\n",
       "</table>\n",
       "</div>"
      ],
      "text/plain": [
       "    keyword                                         main_tweet  main_likes  \\\n",
       "0  COVID-19  this entire bioweapon coup d'etat ~ their Covi...           3   \n",
       "1  COVID-19  Some ppl pretend to remain ignorant. There was...           0   \n",
       "2  COVID-19  Some ppl pretend to remain ignorant. There was...           0   \n",
       "3  COVID-19  Some ppl pretend to remain ignorant. There was...           0   \n",
       "4  COVID-19  Some ppl pretend to remain ignorant. There was...           0   \n",
       "\n",
       "                                               reply  reply_likes  \n",
       "0                               I’ve had enough tbh!           45  \n",
       "1      Resp PM Ji,Pl rate yourself on target defined            0  \n",
       "2  #ModiDisasterForIndia Irony is that he still i...            1  \n",
       "3  With terms &amp; conditions no natural calamit...            0  \n",
       "4                    All of them have been fulfilled            0  "
      ]
     },
     "execution_count": 12,
     "metadata": {},
     "output_type": "execute_result"
    }
   ],
   "source": [
    "orig_df.head()"
   ]
  },
  {
   "cell_type": "code",
   "execution_count": 13,
   "metadata": {},
   "outputs": [
    {
     "data": {
      "text/plain": [
       "array([['COVID-19',\n",
       "        \"this entire bioweapon coup d'etat ~ their Covid-19 'Great Reset' that took out small biz, forced jabs to keep an income, shredded family relationships, killed people in ICU's w/ Fauci Death protocols - firing squad would seem legit.\",\n",
       "        3, 'I’ve had enough tbh!', 45],\n",
       "       ['COVID-19',\n",
       "        'Some ppl pretend to remain ignorant. There was Covid19 that crippled world economy for almost 2 yrs. India was no exception. The comeback becomes all the more important. Need to read real financial &amp; economic news/analysis than being blinded by hatred towards a person or party.',\n",
       "        0, 'Resp PM Ji,Pl rate yourself on target defined', 0],\n",
       "       ['COVID-19',\n",
       "        'Some ppl pretend to remain ignorant. There was Covid19 that crippled world economy for almost 2 yrs. India was no exception. The comeback becomes all the more important. Need to read real financial &amp; economic news/analysis than being blinded by hatred towards a person or party.',\n",
       "        0,\n",
       "        '#ModiDisasterForIndia Irony is that he still is able to make promises shamelessly using the power of the state in dictatorial way. Neither he has guts nor wisdom to answer questions on his monumental mismanagement and disastrous decisions.If he continues,more degradation is sure',\n",
       "        1],\n",
       "       ...,\n",
       "       ['Macdonald',\n",
       "        'Saw the ratio...check the commentsWho?...Google Tom Macdonald First couple vids...\"This guys sucks\"Watch more...\"I kinda like it\"\"People so Stupid\" my new jam',\n",
       "        0, 'This whole thread makes me want to remove my brain', 0],\n",
       "       ['Macdonald',\n",
       "        'Saw the ratio...check the commentsWho?...Google Tom Macdonald First couple vids...\"This guys sucks\"Watch more...\"I kinda like it\"\"People so Stupid\" my new jam',\n",
       "        0,\n",
       "        'Blessed, Thankful, Focused MugAdd a splash of color to your morning coffee or tea ritual! These ceramic mugs not only have a beautiful design on them, but also a colorful rim, handle, and inside, so the mug is bound to spice up your mug rack.Product:',\n",
       "        0],\n",
       "       ['Macdonald',\n",
       "        'Saw the ratio...check the commentsWho?...Google Tom Macdonald First couple vids...\"This guys sucks\"Watch more...\"I kinda like it\"\"People so Stupid\" my new jam',\n",
       "        0, 'crazy frog', 6]], dtype=object)"
      ]
     },
     "execution_count": 13,
     "metadata": {},
     "output_type": "execute_result"
    }
   ],
   "source": [
    "orig_df.to_numpy()"
   ]
  },
  {
   "cell_type": "code",
   "execution_count": 20,
   "metadata": {},
   "outputs": [],
   "source": [
    "orig_df = orig_df.sample(frac=1).reset_index(drop=True) # shuffle records"
   ]
  },
  {
   "cell_type": "code",
   "execution_count": 21,
   "metadata": {},
   "outputs": [
    {
     "data": {
      "text/html": [
       "<div>\n",
       "<style scoped>\n",
       "    .dataframe tbody tr th:only-of-type {\n",
       "        vertical-align: middle;\n",
       "    }\n",
       "\n",
       "    .dataframe tbody tr th {\n",
       "        vertical-align: top;\n",
       "    }\n",
       "\n",
       "    .dataframe thead th {\n",
       "        text-align: right;\n",
       "    }\n",
       "</style>\n",
       "<table border=\"1\" class=\"dataframe\">\n",
       "  <thead>\n",
       "    <tr style=\"text-align: right;\">\n",
       "      <th></th>\n",
       "      <th>keyword</th>\n",
       "      <th>main_tweet</th>\n",
       "      <th>main_likes</th>\n",
       "      <th>reply</th>\n",
       "      <th>reply_likes</th>\n",
       "    </tr>\n",
       "  </thead>\n",
       "  <tbody>\n",
       "    <tr>\n",
       "      <th>0</th>\n",
       "      <td>Tesla</td>\n",
       "      <td>#tesla would be my option not perfume</td>\n",
       "      <td>0</td>\n",
       "      <td>Everyone wants to know how many perfumes have ...</td>\n",
       "      <td>0</td>\n",
       "    </tr>\n",
       "    <tr>\n",
       "      <th>1</th>\n",
       "      <td>Ukraine</td>\n",
       "      <td>Ukraine has got to be one of the richest count...</td>\n",
       "      <td>1</td>\n",
       "      <td>Loł Middle East must mind controlling Europe.S...</td>\n",
       "      <td>0</td>\n",
       "    </tr>\n",
       "    <tr>\n",
       "      <th>2</th>\n",
       "      <td>COVID-19</td>\n",
       "      <td>You mean the lies about how wearing a mask is ...</td>\n",
       "      <td>8</td>\n",
       "      <td>*any conservative</td>\n",
       "      <td>6</td>\n",
       "    </tr>\n",
       "    <tr>\n",
       "      <th>3</th>\n",
       "      <td>Bitcoin</td>\n",
       "      <td>Looks like your deleting your twitter. Have fu...</td>\n",
       "      <td>0</td>\n",
       "      <td>Start to delete your account</td>\n",
       "      <td>0</td>\n",
       "    </tr>\n",
       "    <tr>\n",
       "      <th>4</th>\n",
       "      <td>World Cup</td>\n",
       "      <td>Penaldo 2026 WC winner aka \"the oldest footbal...</td>\n",
       "      <td>0</td>\n",
       "      <td>C.Ronaldo , right?</td>\n",
       "      <td>0</td>\n",
       "    </tr>\n",
       "  </tbody>\n",
       "</table>\n",
       "</div>"
      ],
      "text/plain": [
       "     keyword                                         main_tweet  main_likes  \\\n",
       "0      Tesla              #tesla would be my option not perfume           0   \n",
       "1    Ukraine  Ukraine has got to be one of the richest count...           1   \n",
       "2   COVID-19  You mean the lies about how wearing a mask is ...           8   \n",
       "3    Bitcoin  Looks like your deleting your twitter. Have fu...           0   \n",
       "4  World Cup  Penaldo 2026 WC winner aka \"the oldest footbal...           0   \n",
       "\n",
       "                                               reply  reply_likes  \n",
       "0  Everyone wants to know how many perfumes have ...            0  \n",
       "1  Loł Middle East must mind controlling Europe.S...            0  \n",
       "2                                  *any conservative            6  \n",
       "3                       Start to delete your account            0  \n",
       "4                                 C.Ronaldo , right?            0  "
      ]
     },
     "execution_count": 21,
     "metadata": {},
     "output_type": "execute_result"
    }
   ],
   "source": [
    "orig_df.head()"
   ]
  },
  {
   "cell_type": "code",
   "execution_count": 22,
   "metadata": {},
   "outputs": [],
   "source": [
    "from sklearn.model_selection import train_test_split\n",
    "\n",
    "train, test = train_test_split(orig_df, test_size=0.4)"
   ]
  },
  {
   "cell_type": "code",
   "execution_count": 24,
   "metadata": {},
   "outputs": [
    {
     "data": {
      "text/plain": [
       "68102"
      ]
     },
     "execution_count": 24,
     "metadata": {},
     "output_type": "execute_result"
    }
   ],
   "source": [
    "test[\"reply\"].values.size"
   ]
  },
  {
   "cell_type": "code",
   "execution_count": 25,
   "metadata": {},
   "outputs": [
    {
     "data": {
      "text/plain": [
       "102153"
      ]
     },
     "execution_count": 25,
     "metadata": {},
     "output_type": "execute_result"
    }
   ],
   "source": [
    "train[\"reply\"].values.size"
   ]
  },
  {
   "cell_type": "code",
   "execution_count": 26,
   "metadata": {},
   "outputs": [
    {
     "data": {
      "text/html": [
       "<div>\n",
       "<style scoped>\n",
       "    .dataframe tbody tr th:only-of-type {\n",
       "        vertical-align: middle;\n",
       "    }\n",
       "\n",
       "    .dataframe tbody tr th {\n",
       "        vertical-align: top;\n",
       "    }\n",
       "\n",
       "    .dataframe thead th {\n",
       "        text-align: right;\n",
       "    }\n",
       "</style>\n",
       "<table border=\"1\" class=\"dataframe\">\n",
       "  <thead>\n",
       "    <tr style=\"text-align: right;\">\n",
       "      <th></th>\n",
       "      <th>keyword</th>\n",
       "      <th>main_tweet</th>\n",
       "      <th>main_likes</th>\n",
       "      <th>reply</th>\n",
       "      <th>reply_likes</th>\n",
       "    </tr>\n",
       "  </thead>\n",
       "  <tbody>\n",
       "    <tr>\n",
       "      <th>163648</th>\n",
       "      <td>weather</td>\n",
       "      <td>It's those damn crazy eyes again.</td>\n",
       "      <td>0</td>\n",
       "      <td>The eyes… it’s always the eyes.</td>\n",
       "      <td>1</td>\n",
       "    </tr>\n",
       "    <tr>\n",
       "      <th>151263</th>\n",
       "      <td>World Cup</td>\n",
       "      <td>No. World cup isn’t the measurement to be a go...</td>\n",
       "      <td>0</td>\n",
       "      <td>There wasn't a debate to be had</td>\n",
       "      <td>1</td>\n",
       "    </tr>\n",
       "    <tr>\n",
       "      <th>118661</th>\n",
       "      <td>Vaccine</td>\n",
       "      <td>I know this will sound crazy…but maybe it’s ti...</td>\n",
       "      <td>4</td>\n",
       "      <td>Reason to maintain masking, etc</td>\n",
       "      <td>0</td>\n",
       "    </tr>\n",
       "    <tr>\n",
       "      <th>95420</th>\n",
       "      <td>Dogecoin</td>\n",
       "      <td>DOGE Coin…</td>\n",
       "      <td>1</td>\n",
       "      <td>The love someone has for you</td>\n",
       "      <td>1</td>\n",
       "    </tr>\n",
       "    <tr>\n",
       "      <th>161546</th>\n",
       "      <td>Dogecoin</td>\n",
       "      <td>Elon right now...#BTC #Dogecoin</td>\n",
       "      <td>2</td>\n",
       "      <td>Musk for president 🇺🇸 #USA</td>\n",
       "      <td>0</td>\n",
       "    </tr>\n",
       "  </tbody>\n",
       "</table>\n",
       "</div>"
      ],
      "text/plain": [
       "          keyword                                         main_tweet  \\\n",
       "163648    weather                  It's those damn crazy eyes again.   \n",
       "151263  World Cup  No. World cup isn’t the measurement to be a go...   \n",
       "118661    Vaccine  I know this will sound crazy…but maybe it’s ti...   \n",
       "95420    Dogecoin                                         DOGE Coin…   \n",
       "161546   Dogecoin                    Elon right now...#BTC #Dogecoin   \n",
       "\n",
       "        main_likes                            reply  reply_likes  \n",
       "163648           0  The eyes… it’s always the eyes.            1  \n",
       "151263           0  There wasn't a debate to be had            1  \n",
       "118661           4  Reason to maintain masking, etc            0  \n",
       "95420            1     The love someone has for you            1  \n",
       "161546           2       Musk for president 🇺🇸 #USA            0  "
      ]
     },
     "execution_count": 26,
     "metadata": {},
     "output_type": "execute_result"
    }
   ],
   "source": [
    "test.head()"
   ]
  },
  {
   "cell_type": "code",
   "execution_count": 28,
   "metadata": {},
   "outputs": [
    {
     "data": {
      "text/html": [
       "<div>\n",
       "<style scoped>\n",
       "    .dataframe tbody tr th:only-of-type {\n",
       "        vertical-align: middle;\n",
       "    }\n",
       "\n",
       "    .dataframe tbody tr th {\n",
       "        vertical-align: top;\n",
       "    }\n",
       "\n",
       "    .dataframe thead th {\n",
       "        text-align: right;\n",
       "    }\n",
       "</style>\n",
       "<table border=\"1\" class=\"dataframe\">\n",
       "  <thead>\n",
       "    <tr style=\"text-align: right;\">\n",
       "      <th></th>\n",
       "      <th>keyword</th>\n",
       "      <th>main_tweet</th>\n",
       "      <th>main_likes</th>\n",
       "      <th>reply</th>\n",
       "      <th>reply_likes</th>\n",
       "    </tr>\n",
       "  </thead>\n",
       "  <tbody>\n",
       "    <tr>\n",
       "      <th>0</th>\n",
       "      <td>weather</td>\n",
       "      <td>It's those damn crazy eyes again.</td>\n",
       "      <td>0</td>\n",
       "      <td>The eyes… it’s always the eyes.</td>\n",
       "      <td>1</td>\n",
       "    </tr>\n",
       "    <tr>\n",
       "      <th>1</th>\n",
       "      <td>World Cup</td>\n",
       "      <td>No. World cup isn’t the measurement to be a go...</td>\n",
       "      <td>0</td>\n",
       "      <td>There wasn't a debate to be had</td>\n",
       "      <td>1</td>\n",
       "    </tr>\n",
       "    <tr>\n",
       "      <th>2</th>\n",
       "      <td>Vaccine</td>\n",
       "      <td>I know this will sound crazy…but maybe it’s ti...</td>\n",
       "      <td>4</td>\n",
       "      <td>Reason to maintain masking, etc</td>\n",
       "      <td>0</td>\n",
       "    </tr>\n",
       "    <tr>\n",
       "      <th>3</th>\n",
       "      <td>Dogecoin</td>\n",
       "      <td>DOGE Coin…</td>\n",
       "      <td>1</td>\n",
       "      <td>The love someone has for you</td>\n",
       "      <td>1</td>\n",
       "    </tr>\n",
       "    <tr>\n",
       "      <th>4</th>\n",
       "      <td>Dogecoin</td>\n",
       "      <td>Elon right now...#BTC #Dogecoin</td>\n",
       "      <td>2</td>\n",
       "      <td>Musk for president 🇺🇸 #USA</td>\n",
       "      <td>0</td>\n",
       "    </tr>\n",
       "    <tr>\n",
       "      <th>...</th>\n",
       "      <td>...</td>\n",
       "      <td>...</td>\n",
       "      <td>...</td>\n",
       "      <td>...</td>\n",
       "      <td>...</td>\n",
       "    </tr>\n",
       "    <tr>\n",
       "      <th>68097</th>\n",
       "      <td>nba</td>\n",
       "      <td>okay now there just doing what ppl want. all t...</td>\n",
       "      <td>0</td>\n",
       "      <td>If  stays healthy and don’t win we have a prob...</td>\n",
       "      <td>0</td>\n",
       "    </tr>\n",
       "    <tr>\n",
       "      <th>68098</th>\n",
       "      <td>Elon Musk</td>\n",
       "      <td>What do this time ?</td>\n",
       "      <td>0</td>\n",
       "      <td>Elon Musk, when will we reach 5,000 times?#Elo...</td>\n",
       "      <td>0</td>\n",
       "    </tr>\n",
       "    <tr>\n",
       "      <th>68099</th>\n",
       "      <td>Bitcoin</td>\n",
       "      <td>This fellow makes money in Bitcoin exchange fe...</td>\n",
       "      <td>0</td>\n",
       "      <td>If anyone had a doubt: El Salvador is a failed...</td>\n",
       "      <td>0</td>\n",
       "    </tr>\n",
       "    <tr>\n",
       "      <th>68100</th>\n",
       "      <td>weather</td>\n",
       "      <td>Ur modesty is bothersome, If it was me, i woul...</td>\n",
       "      <td>0</td>\n",
       "      <td>Welcome to the  preview, er, the  Pink Flaming...</td>\n",
       "      <td>6</td>\n",
       "    </tr>\n",
       "    <tr>\n",
       "      <th>68101</th>\n",
       "      <td>Tesla</td>\n",
       "      <td>you should tell tesla edison!</td>\n",
       "      <td>0</td>\n",
       "      <td>If you are too intelligent to believe all of t...</td>\n",
       "      <td>1</td>\n",
       "    </tr>\n",
       "  </tbody>\n",
       "</table>\n",
       "<p>68102 rows × 5 columns</p>\n",
       "</div>"
      ],
      "text/plain": [
       "         keyword                                         main_tweet  \\\n",
       "0        weather                  It's those damn crazy eyes again.   \n",
       "1      World Cup  No. World cup isn’t the measurement to be a go...   \n",
       "2        Vaccine  I know this will sound crazy…but maybe it’s ti...   \n",
       "3       Dogecoin                                         DOGE Coin…   \n",
       "4       Dogecoin                    Elon right now...#BTC #Dogecoin   \n",
       "...          ...                                                ...   \n",
       "68097        nba  okay now there just doing what ppl want. all t...   \n",
       "68098  Elon Musk                                What do this time ?   \n",
       "68099    Bitcoin  This fellow makes money in Bitcoin exchange fe...   \n",
       "68100    weather  Ur modesty is bothersome, If it was me, i woul...   \n",
       "68101      Tesla                      you should tell tesla edison!   \n",
       "\n",
       "       main_likes                                              reply  \\\n",
       "0               0                    The eyes… it’s always the eyes.   \n",
       "1               0                    There wasn't a debate to be had   \n",
       "2               4                    Reason to maintain masking, etc   \n",
       "3               1                       The love someone has for you   \n",
       "4               2                         Musk for president 🇺🇸 #USA   \n",
       "...           ...                                                ...   \n",
       "68097           0  If  stays healthy and don’t win we have a prob...   \n",
       "68098           0  Elon Musk, when will we reach 5,000 times?#Elo...   \n",
       "68099           0  If anyone had a doubt: El Salvador is a failed...   \n",
       "68100           0  Welcome to the  preview, er, the  Pink Flaming...   \n",
       "68101           0  If you are too intelligent to believe all of t...   \n",
       "\n",
       "       reply_likes  \n",
       "0                1  \n",
       "1                1  \n",
       "2                0  \n",
       "3                1  \n",
       "4                0  \n",
       "...            ...  \n",
       "68097            0  \n",
       "68098            0  \n",
       "68099            0  \n",
       "68100            6  \n",
       "68101            1  \n",
       "\n",
       "[68102 rows x 5 columns]"
      ]
     },
     "execution_count": 28,
     "metadata": {},
     "output_type": "execute_result"
    }
   ],
   "source": [
    "test.reset_index(drop=True)"
   ]
  },
  {
   "cell_type": "code",
   "execution_count": 30,
   "metadata": {},
   "outputs": [
    {
     "data": {
      "text/html": [
       "<div>\n",
       "<style scoped>\n",
       "    .dataframe tbody tr th:only-of-type {\n",
       "        vertical-align: middle;\n",
       "    }\n",
       "\n",
       "    .dataframe tbody tr th {\n",
       "        vertical-align: top;\n",
       "    }\n",
       "\n",
       "    .dataframe thead th {\n",
       "        text-align: right;\n",
       "    }\n",
       "</style>\n",
       "<table border=\"1\" class=\"dataframe\">\n",
       "  <thead>\n",
       "    <tr style=\"text-align: right;\">\n",
       "      <th></th>\n",
       "      <th>keyword</th>\n",
       "      <th>main_tweet</th>\n",
       "      <th>main_likes</th>\n",
       "      <th>reply</th>\n",
       "      <th>reply_likes</th>\n",
       "    </tr>\n",
       "  </thead>\n",
       "  <tbody>\n",
       "    <tr>\n",
       "      <th>0</th>\n",
       "      <td>Amazon</td>\n",
       "      <td>Why don't you look into Parler where this ridi...</td>\n",
       "      <td>0</td>\n",
       "      <td>BREAKING: The unselect committee will be disba...</td>\n",
       "      <td>90</td>\n",
       "    </tr>\n",
       "    <tr>\n",
       "      <th>1</th>\n",
       "      <td>Ukraine</td>\n",
       "      <td>Ukraine is being demilitarized slowly</td>\n",
       "      <td>0</td>\n",
       "      <td>Deal with it, n4ziLabs: Thanks from ukr:</td>\n",
       "      <td>0</td>\n",
       "    </tr>\n",
       "    <tr>\n",
       "      <th>2</th>\n",
       "      <td>Bitcoin</td>\n",
       "      <td>This is the mainstream reality we live in , th...</td>\n",
       "      <td>0</td>\n",
       "      <td>🤦🏽‍♂️ what a joke this is. Why aren’t we steal...</td>\n",
       "      <td>0</td>\n",
       "    </tr>\n",
       "    <tr>\n",
       "      <th>3</th>\n",
       "      <td>World Cup</td>\n",
       "      <td>🇭🇷 In 2018, he scored twice in the group stage...</td>\n",
       "      <td>0</td>\n",
       "      <td>🇭🇷 In 2022, he played every game as they progr...</td>\n",
       "      <td>3</td>\n",
       "    </tr>\n",
       "    <tr>\n",
       "      <th>4</th>\n",
       "      <td>COVID-19</td>\n",
       "      <td>Chinese and visitors from China have been posi...</td>\n",
       "      <td>2</td>\n",
       "      <td>No upstanding American is going to China</td>\n",
       "      <td>0</td>\n",
       "    </tr>\n",
       "    <tr>\n",
       "      <th>...</th>\n",
       "      <td>...</td>\n",
       "      <td>...</td>\n",
       "      <td>...</td>\n",
       "      <td>...</td>\n",
       "      <td>...</td>\n",
       "    </tr>\n",
       "    <tr>\n",
       "      <th>102148</th>\n",
       "      <td>Elon Musk</td>\n",
       "      <td>Take a trip to Moscow and stay.</td>\n",
       "      <td>0</td>\n",
       "      <td>Is this a picture of the 6 foot penis that  wa...</td>\n",
       "      <td>0</td>\n",
       "    </tr>\n",
       "    <tr>\n",
       "      <th>102149</th>\n",
       "      <td>Dogecoin</td>\n",
       "      <td>Elon: Wanna buy when dogecoin dips (lmao)</td>\n",
       "      <td>3</td>\n",
       "      <td>Everyone was betting on the freedom and indepe...</td>\n",
       "      <td>0</td>\n",
       "    </tr>\n",
       "    <tr>\n",
       "      <th>102150</th>\n",
       "      <td>nba</td>\n",
       "      <td>Boy needs to shoot. Simple. I'm sure Philly fa...</td>\n",
       "      <td>3</td>\n",
       "      <td>Imagine being one of the most famous basketbal...</td>\n",
       "      <td>0</td>\n",
       "    </tr>\n",
       "    <tr>\n",
       "      <th>102151</th>\n",
       "      <td>Amazon</td>\n",
       "      <td>Amazons are back!</td>\n",
       "      <td>0</td>\n",
       "      <td>I have to retweet this classic bang out again</td>\n",
       "      <td>0</td>\n",
       "    </tr>\n",
       "    <tr>\n",
       "      <th>102152</th>\n",
       "      <td>World Cup</td>\n",
       "      <td>Two weeks of hookah then back to training. But...</td>\n",
       "      <td>2</td>\n",
       "      <td>Facts Unc</td>\n",
       "      <td>0</td>\n",
       "    </tr>\n",
       "  </tbody>\n",
       "</table>\n",
       "<p>102153 rows × 5 columns</p>\n",
       "</div>"
      ],
      "text/plain": [
       "          keyword                                         main_tweet  \\\n",
       "0          Amazon  Why don't you look into Parler where this ridi...   \n",
       "1         Ukraine              Ukraine is being demilitarized slowly   \n",
       "2         Bitcoin  This is the mainstream reality we live in , th...   \n",
       "3       World Cup  🇭🇷 In 2018, he scored twice in the group stage...   \n",
       "4        COVID-19  Chinese and visitors from China have been posi...   \n",
       "...           ...                                                ...   \n",
       "102148  Elon Musk                    Take a trip to Moscow and stay.   \n",
       "102149   Dogecoin          Elon: Wanna buy when dogecoin dips (lmao)   \n",
       "102150        nba  Boy needs to shoot. Simple. I'm sure Philly fa...   \n",
       "102151     Amazon                                  Amazons are back!   \n",
       "102152  World Cup  Two weeks of hookah then back to training. But...   \n",
       "\n",
       "        main_likes                                              reply  \\\n",
       "0                0  BREAKING: The unselect committee will be disba...   \n",
       "1                0           Deal with it, n4ziLabs: Thanks from ukr:   \n",
       "2                0  🤦🏽‍♂️ what a joke this is. Why aren’t we steal...   \n",
       "3                0  🇭🇷 In 2022, he played every game as they progr...   \n",
       "4                2           No upstanding American is going to China   \n",
       "...            ...                                                ...   \n",
       "102148           0  Is this a picture of the 6 foot penis that  wa...   \n",
       "102149           3  Everyone was betting on the freedom and indepe...   \n",
       "102150           3  Imagine being one of the most famous basketbal...   \n",
       "102151           0      I have to retweet this classic bang out again   \n",
       "102152           2                                          Facts Unc   \n",
       "\n",
       "        reply_likes  \n",
       "0                90  \n",
       "1                 0  \n",
       "2                 0  \n",
       "3                 3  \n",
       "4                 0  \n",
       "...             ...  \n",
       "102148            0  \n",
       "102149            0  \n",
       "102150            0  \n",
       "102151            0  \n",
       "102152            0  \n",
       "\n",
       "[102153 rows x 5 columns]"
      ]
     },
     "execution_count": 30,
     "metadata": {},
     "output_type": "execute_result"
    }
   ],
   "source": [
    "train.reset_index(drop=True)"
   ]
  },
  {
   "cell_type": "code",
   "execution_count": 33,
   "metadata": {},
   "outputs": [
    {
     "data": {
      "text/plain": [
       "'weather'"
      ]
     },
     "execution_count": 33,
     "metadata": {},
     "output_type": "execute_result"
    }
   ],
   "source": [
    "test[\"keyword\"].values[0]"
   ]
  },
  {
   "cell_type": "code",
   "execution_count": 47,
   "metadata": {},
   "outputs": [
    {
     "name": "stdout",
     "output_type": "stream",
     "text": [
      "Deal with it, n4ziLabs: Thanks from ukr:\n",
      "{'neg': 0.0, 'neu': 0.674, 'pos': 0.326, 'compound': 0.4404}\n",
      "Deal with it, n4ziLabs: Thanks from ukr:\n",
      "{'neg': 1.0, 'neu': 0.0, 'pos': 0.0, 'compound': -0.5423}\n"
     ]
    }
   ],
   "source": [
    "print(train[\"reply\"].values[1])\n",
    "print(sia.polarity_scores(train[\"reply\"].values[1]))\n",
    "\n",
    "print(\"Deal with it, n4ziLabs: Thanks from ukr:\")\n",
    "print(sia.polarity_scores(\"fuck\"))\n"
   ]
  },
  {
   "cell_type": "code",
   "execution_count": 6,
   "metadata": {},
   "outputs": [],
   "source": [
    "from transformers import AutoTokenizer\n",
    "from transformers import AutoModelForSequenceClassification\n",
    "from scipy.special import softmax"
   ]
  },
  {
   "cell_type": "code",
   "execution_count": 7,
   "metadata": {},
   "outputs": [
    {
     "name": "stderr",
     "output_type": "stream",
     "text": [
      "config.json: 100%|██████████| 747/747 [00:00<00:00, 79.8kB/s]\n",
      "c:\\Users\\humay\\AppData\\Local\\Programs\\Python\\Python39\\lib\\site-packages\\huggingface_hub\\file_download.py:147: UserWarning: `huggingface_hub` cache-system uses symlinks by default to efficiently store duplicated files but your machine does not support them in C:\\Users\\humay\\.cache\\huggingface\\hub. Caching files will still work but in a degraded version that might require more space on your disk. This warning can be disabled by setting the `HF_HUB_DISABLE_SYMLINKS_WARNING` environment variable. For more details, see https://huggingface.co/docs/huggingface_hub/how-to-cache#limitations.\n",
      "To support symlinks on Windows, you either need to activate Developer Mode or to run Python as an administrator. In order to see activate developer mode, see this article: https://docs.microsoft.com/en-us/windows/apps/get-started/enable-your-device-for-development\n",
      "  warnings.warn(message)\n",
      "vocab.json: 100%|██████████| 899k/899k [00:00<00:00, 2.55MB/s]\n",
      "merges.txt: 100%|██████████| 456k/456k [00:00<00:00, 2.99MB/s]\n",
      "special_tokens_map.json: 100%|██████████| 150/150 [00:00<?, ?B/s] \n",
      "pytorch_model.bin: 100%|██████████| 499M/499M [01:16<00:00, 6.53MB/s] \n"
     ]
    }
   ],
   "source": [
    "MODEL = f\"cardiffnlp/twitter-roberta-base-sentiment\"\n",
    "tokenizer = AutoTokenizer.from_pretrained(MODEL)\n",
    "model = AutoModelForSequenceClassification.from_pretrained(MODEL)"
   ]
  },
  {
   "cell_type": "code",
   "execution_count": 15,
   "metadata": {},
   "outputs": [
    {
     "name": "stdout",
     "output_type": "stream",
     "text": [
      "{'roberta_neg': 0.32950994, 'roberta_neu': 0.47112793, 'roberta_pos': 0.19936216}\n"
     ]
    }
   ],
   "source": [
    "# Run for Roberta Model\n",
    "encoded_text = tokenizer(\"arse\", return_tensors='pt')\n",
    "output = model(**encoded_text)\n",
    "scores = output[0][0].detach().numpy()\n",
    "scores = softmax(scores)\n",
    "scores_dict = {\n",
    "    'roberta_neg' : scores[0],\n",
    "    'roberta_neu' : scores[1],\n",
    "    'roberta_pos' : scores[2]\n",
    "}\n",
    "print(scores_dict)"
   ]
  },
  {
   "cell_type": "code",
   "execution_count": null,
   "metadata": {},
   "outputs": [],
   "source": []
  }
 ],
 "metadata": {
  "kernelspec": {
   "display_name": "Python 3",
   "language": "python",
   "name": "python3"
  },
  "language_info": {
   "codemirror_mode": {
    "name": "ipython",
    "version": 3
   },
   "file_extension": ".py",
   "mimetype": "text/x-python",
   "name": "python",
   "nbconvert_exporter": "python",
   "pygments_lexer": "ipython3",
   "version": "3.9.2"
  }
 },
 "nbformat": 4,
 "nbformat_minor": 4
}
