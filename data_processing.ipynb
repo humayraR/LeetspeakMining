{
 "cells": [
  {
   "cell_type": "code",
   "execution_count": 1,
   "metadata": {},
   "outputs": [
    {
     "name": "stderr",
     "output_type": "stream",
     "text": [
      "c:\\Users\\humay\\AppData\\Local\\Programs\\Python\\Python39\\lib\\site-packages\\tqdm\\auto.py:21: TqdmWarning: IProgress not found. Please update jupyter and ipywidgets. See https://ipywidgets.readthedocs.io/en/stable/user_install.html\n",
      "  from .autonotebook import tqdm as notebook_tqdm\n"
     ]
    }
   ],
   "source": [
    "import pandas as pd\n",
    "from sklearn.model_selection import train_test_split\n",
    "from transformers import AutoTokenizer\n",
    "from transformers import AutoModelForSequenceClassification\n",
    "from scipy.special import softmax\n",
    "from tqdm import tqdm, trange"
   ]
  },
  {
   "cell_type": "code",
   "execution_count": 2,
   "metadata": {},
   "outputs": [
    {
     "name": "stdout",
     "output_type": "stream",
     "text": [
      "<class 'pandas.core.frame.DataFrame'>\n",
      "RangeIndex: 170255 entries, 0 to 170254\n",
      "Data columns (total 5 columns):\n",
      " #   Column       Non-Null Count   Dtype \n",
      "---  ------       --------------   ----- \n",
      " 0   keyword      170255 non-null  object\n",
      " 1   main_tweet   170255 non-null  object\n",
      " 2   main_likes   170255 non-null  int64 \n",
      " 3   reply        170255 non-null  object\n",
      " 4   reply_likes  170255 non-null  int64 \n",
      "dtypes: int64(2), object(3)\n",
      "memory usage: 6.5+ MB\n"
     ]
    },
    {
     "data": {
      "text/html": [
       "<div>\n",
       "<style scoped>\n",
       "    .dataframe tbody tr th:only-of-type {\n",
       "        vertical-align: middle;\n",
       "    }\n",
       "\n",
       "    .dataframe tbody tr th {\n",
       "        vertical-align: top;\n",
       "    }\n",
       "\n",
       "    .dataframe thead th {\n",
       "        text-align: right;\n",
       "    }\n",
       "</style>\n",
       "<table border=\"1\" class=\"dataframe\">\n",
       "  <thead>\n",
       "    <tr style=\"text-align: right;\">\n",
       "      <th></th>\n",
       "      <th>keyword</th>\n",
       "      <th>main_tweet</th>\n",
       "      <th>main_likes</th>\n",
       "      <th>reply</th>\n",
       "      <th>reply_likes</th>\n",
       "    </tr>\n",
       "  </thead>\n",
       "  <tbody>\n",
       "    <tr>\n",
       "      <th>0</th>\n",
       "      <td>Ukraine</td>\n",
       "      <td>Is Ukraine eating well? That's where all the m...</td>\n",
       "      <td>0</td>\n",
       "      <td>You add to the problems in this country with e...</td>\n",
       "      <td>0</td>\n",
       "    </tr>\n",
       "    <tr>\n",
       "      <th>1</th>\n",
       "      <td>Macdonald</td>\n",
       "      <td>Ridiculous Macdonald India. You got excess of ...</td>\n",
       "      <td>0</td>\n",
       "      <td>bestie, your mcdelivery didn't have enough rid...</td>\n",
       "      <td>1</td>\n",
       "    </tr>\n",
       "    <tr>\n",
       "      <th>2</th>\n",
       "      <td>TikTok</td>\n",
       "      <td>I saw the hi c orange lava burst box on tiktok...</td>\n",
       "      <td>0</td>\n",
       "      <td>ok but can y’all bring the snack wraps back</td>\n",
       "      <td>6</td>\n",
       "    </tr>\n",
       "    <tr>\n",
       "      <th>3</th>\n",
       "      <td>COVID-19</td>\n",
       "      <td>The bottom 2% of Canadians say they are hurtin...</td>\n",
       "      <td>0</td>\n",
       "      <td>You are not listening to the right new sources...</td>\n",
       "      <td>0</td>\n",
       "    </tr>\n",
       "    <tr>\n",
       "      <th>4</th>\n",
       "      <td>Ukraine</td>\n",
       "      <td>Loving that map on the right... Can't wait to ...</td>\n",
       "      <td>0</td>\n",
       "      <td>you’re leaving out a lot of context broski</td>\n",
       "      <td>3</td>\n",
       "    </tr>\n",
       "  </tbody>\n",
       "</table>\n",
       "</div>"
      ],
      "text/plain": [
       "     keyword                                         main_tweet  main_likes  \\\n",
       "0    Ukraine  Is Ukraine eating well? That's where all the m...           0   \n",
       "1  Macdonald  Ridiculous Macdonald India. You got excess of ...           0   \n",
       "2     TikTok  I saw the hi c orange lava burst box on tiktok...           0   \n",
       "3   COVID-19  The bottom 2% of Canadians say they are hurtin...           0   \n",
       "4    Ukraine  Loving that map on the right... Can't wait to ...           0   \n",
       "\n",
       "                                               reply  reply_likes  \n",
       "0  You add to the problems in this country with e...            0  \n",
       "1  bestie, your mcdelivery didn't have enough rid...            1  \n",
       "2        ok but can y’all bring the snack wraps back            6  \n",
       "3  You are not listening to the right new sources...            0  \n",
       "4         you’re leaving out a lot of context broski            3  "
      ]
     },
     "execution_count": 2,
     "metadata": {},
     "output_type": "execute_result"
    }
   ],
   "source": [
    "orig_df = pd.read_json('tweet_reply.json', lines=True)\n",
    "orig_df = orig_df.sample(frac=1).reset_index(drop=True) # shuffle records\n",
    "orig_df.info()\n",
    "orig_df.head()\n"
   ]
  },
  {
   "cell_type": "code",
   "execution_count": 3,
   "metadata": {},
   "outputs": [
    {
     "name": "stdout",
     "output_type": "stream",
     "text": [
      "Test Dataset:\n",
      "<class 'pandas.core.frame.DataFrame'>\n",
      "Index: 51077 entries, 22010 to 47893\n",
      "Data columns (total 5 columns):\n",
      " #   Column       Non-Null Count  Dtype \n",
      "---  ------       --------------  ----- \n",
      " 0   keyword      51077 non-null  object\n",
      " 1   main_tweet   51077 non-null  object\n",
      " 2   main_likes   51077 non-null  int64 \n",
      " 3   reply        51077 non-null  object\n",
      " 4   reply_likes  51077 non-null  int64 \n",
      "dtypes: int64(2), object(3)\n",
      "memory usage: 2.3+ MB\n",
      "\n",
      "Training Dataset:\n",
      "<class 'pandas.core.frame.DataFrame'>\n",
      "Index: 119178 entries, 23046 to 65658\n",
      "Data columns (total 5 columns):\n",
      " #   Column       Non-Null Count   Dtype \n",
      "---  ------       --------------   ----- \n",
      " 0   keyword      119178 non-null  object\n",
      " 1   main_tweet   119178 non-null  object\n",
      " 2   main_likes   119178 non-null  int64 \n",
      " 3   reply        119178 non-null  object\n",
      " 4   reply_likes  119178 non-null  int64 \n",
      "dtypes: int64(2), object(3)\n",
      "memory usage: 5.5+ MB\n"
     ]
    }
   ],
   "source": [
    "train, test = train_test_split(orig_df, test_size=0.3)\n",
    "test.reset_index(drop=True)\n",
    "train.reset_index(drop=True)\n",
    "print(\"Test Dataset:\")\n",
    "test.info()\n",
    "print(\"\\nTraining Dataset:\")\n",
    "train.info()\n",
    "#test[\"reply\"].values.size\n",
    "\n",
    "#test[\"keyword\"].values[0] -> 'weather'"
   ]
  },
  {
   "cell_type": "code",
   "execution_count": 4,
   "metadata": {},
   "outputs": [
    {
     "name": "stderr",
     "output_type": "stream",
     "text": [
      "Some weights of the model checkpoint at cardiffnlp/twitter-roberta-base-sentiment-latest were not used when initializing RobertaForSequenceClassification: ['roberta.pooler.dense.weight', 'roberta.pooler.dense.bias']\n",
      "- This IS expected if you are initializing RobertaForSequenceClassification from the checkpoint of a model trained on another task or with another architecture (e.g. initializing a BertForSequenceClassification model from a BertForPreTraining model).\n",
      "- This IS NOT expected if you are initializing RobertaForSequenceClassification from the checkpoint of a model that you expect to be exactly identical (initializing a BertForSequenceClassification model from a BertForSequenceClassification model).\n"
     ]
    }
   ],
   "source": [
    "#setup pre-trained roberta model from https://huggingface.co/cardiffnlp/twitter-roberta-base-sentiment-latest \n",
    "MODEL = f\"cardiffnlp/twitter-roberta-base-sentiment-latest\"\n",
    "tokenizer = AutoTokenizer.from_pretrained(MODEL)\n",
    "model = AutoModelForSequenceClassification.from_pretrained(MODEL)"
   ]
  },
  {
   "cell_type": "code",
   "execution_count": 5,
   "metadata": {},
   "outputs": [
    {
     "name": "stdout",
     "output_type": "stream",
     "text": [
      "{'roberta_neg': 0.0077943704, 'roberta_neu': 0.030709133, 'roberta_pos': 0.96149653}\n"
     ]
    }
   ],
   "source": [
    "# Run for Roberta Model\n",
    "def polarity_scores_roberta(example):\n",
    "    encoded_text = tokenizer(example, return_tensors='pt')\n",
    "    output = model(**encoded_text)\n",
    "    scores = output[0][0].detach().numpy()\n",
    "    scores = softmax(scores)\n",
    "    scores_dict = {\n",
    "        'roberta_neg' : scores[0],\n",
    "        'roberta_neu' : scores[1],\n",
    "        'roberta_pos' : scores[2]\n",
    "    }\n",
    "    return scores_dict\n",
    "\n",
    "print(polarity_scores_roberta(\"I am happy\"))"
   ]
  },
  {
   "cell_type": "code",
   "execution_count": 6,
   "metadata": {},
   "outputs": [
    {
     "name": "stderr",
     "output_type": "stream",
     "text": [
      "100%|██████████| 51077/51077 [1:57:32<00:00,  7.24it/s]      \n"
     ]
    },
    {
     "data": {
      "text/html": [
       "<div>\n",
       "<style scoped>\n",
       "    .dataframe tbody tr th:only-of-type {\n",
       "        vertical-align: middle;\n",
       "    }\n",
       "\n",
       "    .dataframe tbody tr th {\n",
       "        vertical-align: top;\n",
       "    }\n",
       "\n",
       "    .dataframe thead th {\n",
       "        text-align: right;\n",
       "    }\n",
       "</style>\n",
       "<table border=\"1\" class=\"dataframe\">\n",
       "  <thead>\n",
       "    <tr style=\"text-align: right;\">\n",
       "      <th></th>\n",
       "      <th>keyword</th>\n",
       "      <th>reply</th>\n",
       "      <th>Neg</th>\n",
       "      <th>Neu</th>\n",
       "      <th>Pos</th>\n",
       "    </tr>\n",
       "  </thead>\n",
       "  <tbody>\n",
       "    <tr>\n",
       "      <th>0</th>\n",
       "      <td>Dogecoin</td>\n",
       "      <td>Hodling like there is no tomorrow!</td>\n",
       "      <td>0.061756</td>\n",
       "      <td>0.309112</td>\n",
       "      <td>0.629132</td>\n",
       "    </tr>\n",
       "    <tr>\n",
       "      <th>1</th>\n",
       "      <td>Vaccine</td>\n",
       "      <td>As they tell us to not worry. 👀</td>\n",
       "      <td>0.078209</td>\n",
       "      <td>0.717959</td>\n",
       "      <td>0.203832</td>\n",
       "    </tr>\n",
       "    <tr>\n",
       "      <th>2</th>\n",
       "      <td>World Cup</td>\n",
       "      <td>I love this</td>\n",
       "      <td>0.009743</td>\n",
       "      <td>0.039927</td>\n",
       "      <td>0.950330</td>\n",
       "    </tr>\n",
       "    <tr>\n",
       "      <th>3</th>\n",
       "      <td>COVID-19</td>\n",
       "      <td>I hope so, but i have no need of immediate inf...</td>\n",
       "      <td>0.015798</td>\n",
       "      <td>0.124445</td>\n",
       "      <td>0.859756</td>\n",
       "    </tr>\n",
       "    <tr>\n",
       "      <th>4</th>\n",
       "      <td>COVID-19</td>\n",
       "      <td>Nuremberg doctors' trial was an important mile...</td>\n",
       "      <td>0.005117</td>\n",
       "      <td>0.106390</td>\n",
       "      <td>0.888493</td>\n",
       "    </tr>\n",
       "  </tbody>\n",
       "</table>\n",
       "</div>"
      ],
      "text/plain": [
       "     keyword                                              reply       Neg  \\\n",
       "0   Dogecoin                 Hodling like there is no tomorrow!  0.061756   \n",
       "1    Vaccine                    As they tell us to not worry. 👀  0.078209   \n",
       "2  World Cup                                        I love this  0.009743   \n",
       "3   COVID-19  I hope so, but i have no need of immediate inf...  0.015798   \n",
       "4   COVID-19  Nuremberg doctors' trial was an important mile...  0.005117   \n",
       "\n",
       "        Neu       Pos  \n",
       "0  0.309112  0.629132  \n",
       "1  0.717959  0.203832  \n",
       "2  0.039927  0.950330  \n",
       "3  0.124445  0.859756  \n",
       "4  0.106390  0.888493  "
      ]
     },
     "execution_count": 6,
     "metadata": {},
     "output_type": "execute_result"
    }
   ],
   "source": [
    "# Run Roberta on test data to get analysis prior leet substitution\n",
    "test1_result = {'keyword':[], 'reply':[], 'Neg':[], 'Neu':[], 'Pos':[]}\n",
    "\n",
    "for i in trange(len(test['reply'].values)):\n",
    "    test1_result['keyword'].append(test['keyword'].values[i])\n",
    "    test1_result['reply'].append(test['reply'].values[i])\n",
    "\n",
    "    polarity_scores = polarity_scores_roberta(test['reply'].values[i])\n",
    "    test1_result['Neg'].append(polarity_scores['roberta_neg'])\n",
    "    test1_result['Neu'].append(polarity_scores['roberta_neu'])\n",
    "    test1_result['Pos'].append(polarity_scores['roberta_pos'])\n",
    "\n",
    "test1_result_df = pd.DataFrame(test1_result)\n",
    "test1_result_df.head()"
   ]
  },
  {
   "cell_type": "code",
   "execution_count": 7,
   "metadata": {},
   "outputs": [],
   "source": [
    "# test.to_csv('test.csv', index=False)\n",
    "# train.to_csv('train.csv', index=False)\n",
    "# test1_result_df.to_csv('test1_result.csv', index=False)"
   ]
  },
  {
   "cell_type": "code",
   "execution_count": null,
   "metadata": {},
   "outputs": [],
   "source": []
  }
 ],
 "metadata": {
  "kernelspec": {
   "display_name": "Python 3",
   "language": "python",
   "name": "python3"
  },
  "language_info": {
   "codemirror_mode": {
    "name": "ipython",
    "version": 3
   },
   "file_extension": ".py",
   "mimetype": "text/x-python",
   "name": "python",
   "nbconvert_exporter": "python",
   "pygments_lexer": "ipython3",
   "version": "3.9.2"
  }
 },
 "nbformat": 4,
 "nbformat_minor": 4
}
